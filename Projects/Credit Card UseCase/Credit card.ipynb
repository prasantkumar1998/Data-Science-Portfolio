{
 "cells": [
  {
   "cell_type": "markdown",
   "metadata": {},
   "source": [
    "<h2 align='center'> Application Of Descriptive Analytics in Banking - A Credit Card Use Case </h2>\n",
    "\n",
    "### Problem Statement\n",
    "\n",
    "The portfolio manager of a leading consumer credit card feels his current spend acceleration strategy is not aligned with the need of his customers which is a major cause of lower spends on the credit card.\n",
    "\n",
    "As a first step he would like to deep dive and understanding <b> what is the typical spend pattern of the customers</b> in his portfolio. This will help him gain some initial pointer to pivot his current strategy accordingly. \n",
    "\n",
    "The current portfolio is divided in different segments based on characteristics like Product , Payments Patterns and Customer Value and Potential. \n",
    "\n",
    "The manager is also keen to understand in detail if the <b>spend behavior varies across these customer segments</b> which will give him some idea to the level of granularity he needs to think to come up with his revamped spend growth strategy.  \n",
    "\n",
    "### About the Dataset:\n",
    "\n",
    "Data available for the challenge has credit card spend information for the period Jan2013 - Jun2013. It also has information on type of customer and type of card. Detailed description for each variable is provided in the data dictionary given below. The data available to us is a preloaded dataset.\n",
    "\n",
    "#### Data description :\n",
    "\n",
    "- Month : Calendar Month (Data has spend information for period Jan2013 -Jun-2013)\n",
    "- CLIENTNUM : Client Number(Primary Key)\n",
    "- Wealth_tag : Internal classification variable, used to classify customers based on their wealth (High Net Worth, Affluent, Emerging Affluent, Mass-Market)\n",
    "- Card_type : Internal product fact variable - Card type depicting the variants of the cards by value proposition(Blue, Gold & Platinum)\n",
    "- Revlv_ind : Internal fact variable- Revolving Indicator depicts different customer segments based on their payment behavior\n",
    "- spend_category : Type of Spend (Airlines, Auto, Business, Entertainment, Grocery, Personal)\n",
    "- trans_amt : Average Amount Spent per Transaction \n",
    "- trans_cnt: Count of Transactions/Transaction Frequency\n",
    "\n",
    "<hr>"
   ]
  },
  {
   "cell_type": "markdown",
   "metadata": {},
   "source": [
    "#### Import essential packages "
   ]
  },
  {
   "cell_type": "code",
   "execution_count": 1,
   "metadata": {},
   "outputs": [],
   "source": [
    "import numpy as np\n",
    "import pandas as pd \n",
    "import matplotlib.pyplot as plt\n",
    "%matplotlib inline\n",
    "import seaborn as sns \n",
    "\n",
    "import plotly.express as px\n",
    "import plotly.figure_factory as ff\n",
    "import plotly.graph_objects as go\n",
    "\n",
    "from warnings import filterwarnings\n",
    "filterwarnings('ignore')"
   ]
  },
  {
   "cell_type": "markdown",
   "metadata": {},
   "source": [
    "#### Loading Dataset "
   ]
  },
  {
   "cell_type": "code",
   "execution_count": 2,
   "metadata": {},
   "outputs": [
    {
     "data": {
      "text/html": [
       "<div>\n",
       "<style scoped>\n",
       "    .dataframe tbody tr th:only-of-type {\n",
       "        vertical-align: middle;\n",
       "    }\n",
       "\n",
       "    .dataframe tbody tr th {\n",
       "        vertical-align: top;\n",
       "    }\n",
       "\n",
       "    .dataframe thead th {\n",
       "        text-align: right;\n",
       "    }\n",
       "</style>\n",
       "<table border=\"1\" class=\"dataframe\">\n",
       "  <thead>\n",
       "    <tr style=\"text-align: right;\">\n",
       "      <th></th>\n",
       "      <th>Month</th>\n",
       "      <th>CLIENTNUM</th>\n",
       "      <th>wealth_tag</th>\n",
       "      <th>card_type</th>\n",
       "      <th>Revlv_ind</th>\n",
       "      <th>spend_category</th>\n",
       "      <th>Trans_amt</th>\n",
       "      <th>trans_cnt</th>\n",
       "    </tr>\n",
       "  </thead>\n",
       "  <tbody>\n",
       "    <tr>\n",
       "      <th>0</th>\n",
       "      <td>1301</td>\n",
       "      <td>9124400</td>\n",
       "      <td>High Net Worth</td>\n",
       "      <td>Blue</td>\n",
       "      <td>Transactor</td>\n",
       "      <td>Grocery</td>\n",
       "      <td>76.40</td>\n",
       "      <td>9</td>\n",
       "    </tr>\n",
       "    <tr>\n",
       "      <th>1</th>\n",
       "      <td>1301</td>\n",
       "      <td>9124400</td>\n",
       "      <td>High Net Worth</td>\n",
       "      <td>Blue</td>\n",
       "      <td>Transactor</td>\n",
       "      <td>Auto</td>\n",
       "      <td>55.48</td>\n",
       "      <td>6</td>\n",
       "    </tr>\n",
       "    <tr>\n",
       "      <th>2</th>\n",
       "      <td>1301</td>\n",
       "      <td>5782042</td>\n",
       "      <td>High Net Worth</td>\n",
       "      <td>Blue</td>\n",
       "      <td>Transactor</td>\n",
       "      <td>Airlines</td>\n",
       "      <td>79.16</td>\n",
       "      <td>8</td>\n",
       "    </tr>\n",
       "    <tr>\n",
       "      <th>3</th>\n",
       "      <td>1301</td>\n",
       "      <td>5782042</td>\n",
       "      <td>High Net Worth</td>\n",
       "      <td>Blue</td>\n",
       "      <td>Transactor</td>\n",
       "      <td>Grocery</td>\n",
       "      <td>78.87</td>\n",
       "      <td>8</td>\n",
       "    </tr>\n",
       "    <tr>\n",
       "      <th>4</th>\n",
       "      <td>1301</td>\n",
       "      <td>5782042</td>\n",
       "      <td>High Net Worth</td>\n",
       "      <td>Blue</td>\n",
       "      <td>Transactor</td>\n",
       "      <td>Auto</td>\n",
       "      <td>58.00</td>\n",
       "      <td>6</td>\n",
       "    </tr>\n",
       "  </tbody>\n",
       "</table>\n",
       "</div>"
      ],
      "text/plain": [
       "   Month  CLIENTNUM      wealth_tag card_type   Revlv_ind spend_category  \\\n",
       "0   1301    9124400  High Net Worth      Blue  Transactor        Grocery   \n",
       "1   1301    9124400  High Net Worth      Blue  Transactor           Auto   \n",
       "2   1301    5782042  High Net Worth      Blue  Transactor       Airlines   \n",
       "3   1301    5782042  High Net Worth      Blue  Transactor        Grocery   \n",
       "4   1301    5782042  High Net Worth      Blue  Transactor           Auto   \n",
       "\n",
       "   Trans_amt  trans_cnt  \n",
       "0      76.40          9  \n",
       "1      55.48          6  \n",
       "2      79.16          8  \n",
       "3      78.87          8  \n",
       "4      58.00          6  "
      ]
     },
     "execution_count": 2,
     "metadata": {},
     "output_type": "execute_result"
    }
   ],
   "source": [
    "df = pd.read_csv('Dataset/Descriptive_Analytics_Banking_Data18MAY.csv', delimiter=';')\n",
    "df.head()"
   ]
  },
  {
   "cell_type": "code",
   "execution_count": 3,
   "metadata": {},
   "outputs": [
    {
     "data": {
      "text/html": [
       "<div>\n",
       "<style scoped>\n",
       "    .dataframe tbody tr th:only-of-type {\n",
       "        vertical-align: middle;\n",
       "    }\n",
       "\n",
       "    .dataframe tbody tr th {\n",
       "        vertical-align: top;\n",
       "    }\n",
       "\n",
       "    .dataframe thead th {\n",
       "        text-align: right;\n",
       "    }\n",
       "</style>\n",
       "<table border=\"1\" class=\"dataframe\">\n",
       "  <thead>\n",
       "    <tr style=\"text-align: right;\">\n",
       "      <th></th>\n",
       "      <th>Month</th>\n",
       "      <th>CLIENTNUM</th>\n",
       "      <th>wealth_tag</th>\n",
       "      <th>card_type</th>\n",
       "      <th>Revlv_ind</th>\n",
       "      <th>spend_category</th>\n",
       "      <th>Trans_amt</th>\n",
       "      <th>trans_cnt</th>\n",
       "    </tr>\n",
       "  </thead>\n",
       "  <tbody>\n",
       "    <tr>\n",
       "      <th>8047</th>\n",
       "      <td>1306</td>\n",
       "      <td>2927163</td>\n",
       "      <td>MM</td>\n",
       "      <td>Platinum</td>\n",
       "      <td>Delinquent</td>\n",
       "      <td>Business</td>\n",
       "      <td>26.34</td>\n",
       "      <td>2</td>\n",
       "    </tr>\n",
       "    <tr>\n",
       "      <th>8048</th>\n",
       "      <td>1306</td>\n",
       "      <td>2927163</td>\n",
       "      <td>MM</td>\n",
       "      <td>Platinum</td>\n",
       "      <td>Delinquent</td>\n",
       "      <td>Entertainment</td>\n",
       "      <td>10.04</td>\n",
       "      <td>2</td>\n",
       "    </tr>\n",
       "    <tr>\n",
       "      <th>8049</th>\n",
       "      <td>1306</td>\n",
       "      <td>8958901</td>\n",
       "      <td>MM</td>\n",
       "      <td>Platinum</td>\n",
       "      <td>Delinquent</td>\n",
       "      <td>Grocery</td>\n",
       "      <td>25.59</td>\n",
       "      <td>2</td>\n",
       "    </tr>\n",
       "    <tr>\n",
       "      <th>8050</th>\n",
       "      <td>1306</td>\n",
       "      <td>8958901</td>\n",
       "      <td>MM</td>\n",
       "      <td>Platinum</td>\n",
       "      <td>Delinquent</td>\n",
       "      <td>Entertainment</td>\n",
       "      <td>12.64</td>\n",
       "      <td>2</td>\n",
       "    </tr>\n",
       "    <tr>\n",
       "      <th>8051</th>\n",
       "      <td>1306</td>\n",
       "      <td>8958901</td>\n",
       "      <td>MM</td>\n",
       "      <td>Platinum</td>\n",
       "      <td>Delinquent</td>\n",
       "      <td>Airlines</td>\n",
       "      <td>12.88</td>\n",
       "      <td>2</td>\n",
       "    </tr>\n",
       "  </tbody>\n",
       "</table>\n",
       "</div>"
      ],
      "text/plain": [
       "      Month  CLIENTNUM wealth_tag card_type   Revlv_ind spend_category  \\\n",
       "8047   1306    2927163         MM  Platinum  Delinquent       Business   \n",
       "8048   1306    2927163         MM  Platinum  Delinquent  Entertainment   \n",
       "8049   1306    8958901         MM  Platinum  Delinquent        Grocery   \n",
       "8050   1306    8958901         MM  Platinum  Delinquent  Entertainment   \n",
       "8051   1306    8958901         MM  Platinum  Delinquent       Airlines   \n",
       "\n",
       "      Trans_amt  trans_cnt  \n",
       "8047      26.34          2  \n",
       "8048      10.04          2  \n",
       "8049      25.59          2  \n",
       "8050      12.64          2  \n",
       "8051      12.88          2  "
      ]
     },
     "execution_count": 3,
     "metadata": {},
     "output_type": "execute_result"
    }
   ],
   "source": [
    "df.tail()"
   ]
  },
  {
   "cell_type": "markdown",
   "metadata": {},
   "source": [
    "### Inspecting Data"
   ]
  },
  {
   "cell_type": "code",
   "execution_count": 4,
   "metadata": {
    "scrolled": true
   },
   "outputs": [
    {
     "data": {
      "text/plain": [
       "(8052, 8)"
      ]
     },
     "execution_count": 4,
     "metadata": {},
     "output_type": "execute_result"
    }
   ],
   "source": [
    "df.shape"
   ]
  },
  {
   "cell_type": "markdown",
   "metadata": {},
   "source": [
    "- Dataset comprises 8,052 observations(rows) and 8 features(columns)"
   ]
  },
  {
   "cell_type": "code",
   "execution_count": 5,
   "metadata": {
    "scrolled": true
   },
   "outputs": [
    {
     "name": "stdout",
     "output_type": "stream",
     "text": [
      "<class 'pandas.core.frame.DataFrame'>\n",
      "RangeIndex: 8052 entries, 0 to 8051\n",
      "Data columns (total 8 columns):\n",
      " #   Column          Non-Null Count  Dtype  \n",
      "---  ------          --------------  -----  \n",
      " 0   Month           8052 non-null   int64  \n",
      " 1   CLIENTNUM       8052 non-null   int64  \n",
      " 2   wealth_tag      8052 non-null   object \n",
      " 3   card_type       8052 non-null   object \n",
      " 4   Revlv_ind       8052 non-null   object \n",
      " 5   spend_category  8052 non-null   object \n",
      " 6   Trans_amt       8048 non-null   float64\n",
      " 7   trans_cnt       8052 non-null   int64  \n",
      "dtypes: float64(1), int64(3), object(4)\n",
      "memory usage: 503.4+ KB\n"
     ]
    }
   ],
   "source": [
    "df.info()"
   ]
  },
  {
   "cell_type": "markdown",
   "metadata": {},
   "source": [
    "- It has 3 integer column, 1 float column and 4 object column \n",
    "- It  seems to have some null values in transaction amount attribute\n"
   ]
  },
  {
   "cell_type": "code",
   "execution_count": 6,
   "metadata": {
    "scrolled": true
   },
   "outputs": [
    {
     "data": {
      "text/plain": [
       "Month             0\n",
       "CLIENTNUM         0\n",
       "wealth_tag        0\n",
       "card_type         0\n",
       "Revlv_ind         0\n",
       "spend_category    0\n",
       "Trans_amt         4\n",
       "trans_cnt         0\n",
       "dtype: int64"
      ]
     },
     "execution_count": 6,
     "metadata": {},
     "output_type": "execute_result"
    }
   ],
   "source": [
    "df.isnull().sum()"
   ]
  },
  {
   "cell_type": "markdown",
   "metadata": {},
   "source": [
    "- There are 4 null values in trans_amt "
   ]
  },
  {
   "cell_type": "markdown",
   "metadata": {},
   "source": [
    "### Statistical Summary\n",
    "- Get some insight of data using describe() function"
   ]
  },
  {
   "cell_type": "code",
   "execution_count": 7,
   "metadata": {},
   "outputs": [
    {
     "data": {
      "text/html": [
       "<div>\n",
       "<style scoped>\n",
       "    .dataframe tbody tr th:only-of-type {\n",
       "        vertical-align: middle;\n",
       "    }\n",
       "\n",
       "    .dataframe tbody tr th {\n",
       "        vertical-align: top;\n",
       "    }\n",
       "\n",
       "    .dataframe thead th {\n",
       "        text-align: right;\n",
       "    }\n",
       "</style>\n",
       "<table border=\"1\" class=\"dataframe\">\n",
       "  <thead>\n",
       "    <tr style=\"text-align: right;\">\n",
       "      <th></th>\n",
       "      <th>Month</th>\n",
       "      <th>CLIENTNUM</th>\n",
       "      <th>Trans_amt</th>\n",
       "      <th>trans_cnt</th>\n",
       "    </tr>\n",
       "  </thead>\n",
       "  <tbody>\n",
       "    <tr>\n",
       "      <th>count</th>\n",
       "      <td>8052.000000</td>\n",
       "      <td>8.052000e+03</td>\n",
       "      <td>8048.000000</td>\n",
       "      <td>8052.000000</td>\n",
       "    </tr>\n",
       "    <tr>\n",
       "      <th>mean</th>\n",
       "      <td>1303.512916</td>\n",
       "      <td>5.048122e+06</td>\n",
       "      <td>45.405857</td>\n",
       "      <td>5.045455</td>\n",
       "    </tr>\n",
       "    <tr>\n",
       "      <th>std</th>\n",
       "      <td>1.713183</td>\n",
       "      <td>2.792297e+06</td>\n",
       "      <td>38.027026</td>\n",
       "      <td>3.810395</td>\n",
       "    </tr>\n",
       "    <tr>\n",
       "      <th>min</th>\n",
       "      <td>1301.000000</td>\n",
       "      <td>1.119200e+04</td>\n",
       "      <td>1.010000</td>\n",
       "      <td>1.000000</td>\n",
       "    </tr>\n",
       "    <tr>\n",
       "      <th>25%</th>\n",
       "      <td>1302.000000</td>\n",
       "      <td>2.707262e+06</td>\n",
       "      <td>19.420000</td>\n",
       "      <td>2.000000</td>\n",
       "    </tr>\n",
       "    <tr>\n",
       "      <th>50%</th>\n",
       "      <td>1304.000000</td>\n",
       "      <td>5.138360e+06</td>\n",
       "      <td>33.705000</td>\n",
       "      <td>4.000000</td>\n",
       "    </tr>\n",
       "    <tr>\n",
       "      <th>75%</th>\n",
       "      <td>1305.000000</td>\n",
       "      <td>7.239774e+06</td>\n",
       "      <td>57.927500</td>\n",
       "      <td>6.000000</td>\n",
       "    </tr>\n",
       "    <tr>\n",
       "      <th>max</th>\n",
       "      <td>1306.000000</td>\n",
       "      <td>1.000728e+07</td>\n",
       "      <td>266.720000</td>\n",
       "      <td>26.000000</td>\n",
       "    </tr>\n",
       "  </tbody>\n",
       "</table>\n",
       "</div>"
      ],
      "text/plain": [
       "             Month     CLIENTNUM    Trans_amt    trans_cnt\n",
       "count  8052.000000  8.052000e+03  8048.000000  8052.000000\n",
       "mean   1303.512916  5.048122e+06    45.405857     5.045455\n",
       "std       1.713183  2.792297e+06    38.027026     3.810395\n",
       "min    1301.000000  1.119200e+04     1.010000     1.000000\n",
       "25%    1302.000000  2.707262e+06    19.420000     2.000000\n",
       "50%    1304.000000  5.138360e+06    33.705000     4.000000\n",
       "75%    1305.000000  7.239774e+06    57.927500     6.000000\n",
       "max    1306.000000  1.000728e+07   266.720000    26.000000"
      ]
     },
     "execution_count": 7,
     "metadata": {},
     "output_type": "execute_result"
    }
   ],
   "source": [
    "df.describe()"
   ]
  },
  {
   "cell_type": "markdown",
   "metadata": {},
   "source": [
    "- Trans_amt and trans_cnt have large difference in their 75% and maximum value ie, it confirms the presence of outliers\n",
    "- Mean of trans_amt is shifted due to presence of outlier in data"
   ]
  },
  {
   "cell_type": "markdown",
   "metadata": {},
   "source": [
    "#### Checking Skewness "
   ]
  },
  {
   "cell_type": "code",
   "execution_count": 8,
   "metadata": {},
   "outputs": [
    {
     "data": {
      "text/plain": [
       "Month       -0.005451\n",
       "CLIENTNUM   -0.015012\n",
       "Trans_amt    1.916528\n",
       "trans_cnt    1.874800\n",
       "dtype: float64"
      ]
     },
     "execution_count": 8,
     "metadata": {},
     "output_type": "execute_result"
    }
   ],
   "source": [
    "df[['Month','CLIENTNUM','Trans_amt','trans_cnt']].skew()"
   ]
  },
  {
   "cell_type": "markdown",
   "metadata": {},
   "source": [
    "**The skewness checks the  Symmetry of curve :** \n",
    "\n",
    "* Month, CLIENTNUM  are negatively skewed ie. Mean < Median\n",
    "* Trans_amt, trans_cnt  are positively Skewed (Mean > Median)"
   ]
  },
  {
   "cell_type": "markdown",
   "metadata": {},
   "source": [
    "#### Checking kurtosis "
   ]
  },
  {
   "cell_type": "code",
   "execution_count": 9,
   "metadata": {},
   "outputs": [
    {
     "data": {
      "text/plain": [
       "Month       -1.275321\n",
       "CLIENTNUM   -1.086919\n",
       "Trans_amt    4.502248\n",
       "trans_cnt    4.264457\n",
       "dtype: float64"
      ]
     },
     "execution_count": 9,
     "metadata": {},
     "output_type": "execute_result"
    }
   ],
   "source": [
    "df[['Month','CLIENTNUM','Trans_amt','trans_cnt']].kurt()"
   ]
  },
  {
   "cell_type": "markdown",
   "metadata": {},
   "source": [
    "**The kurtosis checks the peakness of curve :**\n",
    "* Month, CLIENTNUM are **Platykurtic** in nature ie. Flat and spread out\n",
    "* Trans_amt, trans_cnt are **Leptokurtic** in nature"
   ]
  },
  {
   "cell_type": "markdown",
   "metadata": {},
   "source": [
    "#### Checking Range "
   ]
  },
  {
   "cell_type": "code",
   "execution_count": 10,
   "metadata": {},
   "outputs": [
    {
     "name": "stdout",
     "output_type": "stream",
     "text": [
      "Range of Month is 5\n",
      "Range of CLIENTNUM is 9996085\n",
      "Range of Trans_amt is 265.71000000000004\n",
      "Range of trans_cnt is 25\n"
     ]
    }
   ],
   "source": [
    "col = ['Month','CLIENTNUM','Trans_amt','trans_cnt']\n",
    "for i in col:\n",
    "    range_ = max(df[i]) - min(df[i])\n",
    "    print(f\"Range of {i} is {range_}\")"
   ]
  },
  {
   "cell_type": "markdown",
   "metadata": {},
   "source": [
    "### Correlation Matrix"
   ]
  },
  {
   "cell_type": "code",
   "execution_count": 11,
   "metadata": {},
   "outputs": [
    {
     "data": {
      "text/plain": [
       "<matplotlib.axes._subplots.AxesSubplot at 0x28fcabed1c0>"
      ]
     },
     "execution_count": 11,
     "metadata": {},
     "output_type": "execute_result"
    },
    {
     "data": {
      "image/png": "[encoded data removed]",
      "text/plain": [
       "<Figure size 432x288 with 2 Axes>"
      ]
     },
     "metadata": {
      "needs_background": "light"
     },
     "output_type": "display_data"
    }
   ],
   "source": [
    "sns.heatmap(df.corr(), annot = True)"
   ]
  },
  {
   "cell_type": "markdown",
   "metadata": {},
   "source": [
    "- Attribute Trans_amt has high positive correlation with trans_cnt\n",
    "- CLIENTNUM seems to have very low correlation or no corrlation with any variable, seems to be irrelevent column"
   ]
  },
  {
   "cell_type": "markdown",
   "metadata": {},
   "source": [
    "### Exploratory Data Analysis"
   ]
  },
  {
   "cell_type": "code",
   "execution_count": 12,
   "metadata": {},
   "outputs": [
    {
     "data": {
      "image/png": "[encoded data removed]",
      "text/plain": [
       "<Figure size 720x576 with 4 Axes>"
      ]
     },
     "metadata": {
      "needs_background": "light"
     },
     "output_type": "display_data"
    }
   ],
   "source": [
    "df.hist(figsize=(10,8));"
   ]
  },
  {
   "cell_type": "markdown",
   "metadata": {},
   "source": [
    "- Data of trans_amt, and trans_cnt is postively skewed ie shifted towards left"
   ]
  },
  {
   "cell_type": "code",
   "execution_count": 13,
   "metadata": {},
   "outputs": [],
   "source": [
    "# creating copy of dataset\n",
    "data = df.copy()\n",
    "\n",
    "# converting data to normal distribution\n",
    "data['Trans_amt'] = np.log(df['Trans_amt'])\n",
    "data['trans_cnt'] = np.log(df['trans_cnt'])"
   ]
  },
  {
   "cell_type": "code",
   "execution_count": 14,
   "metadata": {},
   "outputs": [
    {
     "data": {
      "image/png": "[encoded data removed]",
      "text/plain": [
       "<Figure size 720x576 with 4 Axes>"
      ]
     },
     "metadata": {
      "needs_background": "light"
     },
     "output_type": "display_data"
    }
   ],
   "source": [
    "data.hist(figsize=(10,8));"
   ]
  },
  {
   "cell_type": "markdown",
   "metadata": {},
   "source": [
    "- Now the data is normally distributed\n",
    "- Clientnum is not relevent attribute for prediction"
   ]
  },
  {
   "cell_type": "markdown",
   "metadata": {},
   "source": [
    "### Analysing Data with respect to Months"
   ]
  },
  {
   "cell_type": "code",
   "execution_count": 15,
   "metadata": {},
   "outputs": [
    {
     "data": {
      "text/plain": [
       "<matplotlib.axes._subplots.AxesSubplot at 0x28fcb30f220>"
      ]
     },
     "execution_count": 15,
     "metadata": {},
     "output_type": "execute_result"
    },
    {
     "data": {
      "image/png": "[encoded data removed]",
      "text/plain": [
       "<Figure size 432x288 with 1 Axes>"
      ]
     },
     "metadata": {
      "needs_background": "light"
     },
     "output_type": "display_data"
    }
   ],
   "source": [
    "sns.pointplot(df.Month, df.Trans_amt)"
   ]
  },
  {
   "cell_type": "markdown",
   "metadata": {},
   "source": [
    "1301 indicates january 2013 , and so on... \n",
    "\n",
    "- Month of june and march seems to be top 2 months where transaction amount is high"
   ]
  },
  {
   "cell_type": "code",
   "execution_count": 16,
   "metadata": {},
   "outputs": [
    {
     "data": {
      "text/plain": [
       "1306    1376\n",
       "1303    1358\n",
       "1305    1347\n",
       "1301    1335\n",
       "1302    1329\n",
       "1304    1307\n",
       "Name: Month, dtype: int64"
      ]
     },
     "execution_count": 16,
     "metadata": {},
     "output_type": "execute_result"
    }
   ],
   "source": [
    "df['Month'].value_counts()"
   ]
  },
  {
   "cell_type": "code",
   "execution_count": 17,
   "metadata": {},
   "outputs": [
    {
     "data": {
      "text/html": [
       "<div>\n",
       "<style scoped>\n",
       "    .dataframe tbody tr th:only-of-type {\n",
       "        vertical-align: middle;\n",
       "    }\n",
       "\n",
       "    .dataframe tbody tr th {\n",
       "        vertical-align: top;\n",
       "    }\n",
       "\n",
       "    .dataframe thead th {\n",
       "        text-align: right;\n",
       "    }\n",
       "</style>\n",
       "<table border=\"1\" class=\"dataframe\">\n",
       "  <thead>\n",
       "    <tr style=\"text-align: right;\">\n",
       "      <th></th>\n",
       "      <th>CLIENTNUM</th>\n",
       "      <th>Trans_amt</th>\n",
       "      <th>trans_cnt</th>\n",
       "      <th>months</th>\n",
       "    </tr>\n",
       "    <tr>\n",
       "      <th>Month</th>\n",
       "      <th></th>\n",
       "      <th></th>\n",
       "      <th></th>\n",
       "      <th></th>\n",
       "    </tr>\n",
       "  </thead>\n",
       "  <tbody>\n",
       "    <tr>\n",
       "      <th>1301</th>\n",
       "      <td>6723838918</td>\n",
       "      <td>59080.66</td>\n",
       "      <td>6543</td>\n",
       "      <td>1301</td>\n",
       "    </tr>\n",
       "    <tr>\n",
       "      <th>1302</th>\n",
       "      <td>6763189069</td>\n",
       "      <td>58804.10</td>\n",
       "      <td>6549</td>\n",
       "      <td>1302</td>\n",
       "    </tr>\n",
       "    <tr>\n",
       "      <th>1303</th>\n",
       "      <td>6854232193</td>\n",
       "      <td>64639.95</td>\n",
       "      <td>7166</td>\n",
       "      <td>1303</td>\n",
       "    </tr>\n",
       "    <tr>\n",
       "      <th>1304</th>\n",
       "      <td>6537048178</td>\n",
       "      <td>56478.36</td>\n",
       "      <td>6331</td>\n",
       "      <td>1304</td>\n",
       "    </tr>\n",
       "    <tr>\n",
       "      <th>1305</th>\n",
       "      <td>6805461491</td>\n",
       "      <td>59806.70</td>\n",
       "      <td>6701</td>\n",
       "      <td>1305</td>\n",
       "    </tr>\n",
       "  </tbody>\n",
       "</table>\n",
       "</div>"
      ],
      "text/plain": [
       "        CLIENTNUM  Trans_amt  trans_cnt  months\n",
       "Month                                          \n",
       "1301   6723838918   59080.66       6543    1301\n",
       "1302   6763189069   58804.10       6549    1302\n",
       "1303   6854232193   64639.95       7166    1303\n",
       "1304   6537048178   56478.36       6331    1304\n",
       "1305   6805461491   59806.70       6701    1305"
      ]
     },
     "execution_count": 17,
     "metadata": {},
     "output_type": "execute_result"
    }
   ],
   "source": [
    "df1 = df.groupby(['Month']).sum()\n",
    "df1['months'] = df1.index\n",
    "df1.head()"
   ]
  },
  {
   "cell_type": "code",
   "execution_count": 18,
   "metadata": {},
   "outputs": [
    {
     "data": {
      "image/png": "[encoded data removed]",
      "text/plain": [
       "<Figure size 432x288 with 1 Axes>"
      ]
     },
     "metadata": {
      "needs_background": "light"
     },
     "output_type": "display_data"
    }
   ],
   "source": [
    "sns.lineplot(df1['months'], df1['Trans_amt'], color = 'r', marker='o', markersize = 10)\n",
    "plt.title('Total Amount spend by Customers over 6 months')\n",
    "plt.show()"
   ]
  },
  {
   "cell_type": "markdown",
   "metadata": {},
   "source": [
    "- Total Amount is Maximum spend in month June & Minimum in April"
   ]
  },
  {
   "cell_type": "markdown",
   "metadata": {},
   "source": [
    "### Analysing Data with respect to Card type :"
   ]
  },
  {
   "cell_type": "code",
   "execution_count": 19,
   "metadata": {},
   "outputs": [
    {
     "data": {
      "image/png": "[encoded data removed]",
      "text/plain": [
       "<Figure size 432x288 with 1 Axes>"
      ]
     },
     "metadata": {
      "needs_background": "light"
     },
     "output_type": "display_data"
    }
   ],
   "source": [
    "sns.barplot(df['card_type'], df['Trans_amt'])\n",
    "sns.lineplot(df['card_type'], df['Trans_amt'], color='orange');"
   ]
  },
  {
   "cell_type": "markdown",
   "metadata": {},
   "source": [
    "- Platinum card customers have high transaction amount\n",
    "- Blue card customers seems to have lowest transaction amount"
   ]
  },
  {
   "cell_type": "code",
   "execution_count": 20,
   "metadata": {},
   "outputs": [
    {
     "data": {
      "text/plain": [
       "Gold        2707\n",
       "Blue        2696\n",
       "Platinum    2649\n",
       "Name: card_type, dtype: int64"
      ]
     },
     "execution_count": 20,
     "metadata": {},
     "output_type": "execute_result"
    }
   ],
   "source": [
    "df['card_type'].value_counts()"
   ]
  },
  {
   "cell_type": "markdown",
   "metadata": {},
   "source": [
    "- Gold card have maximum number of observations\n",
    "- Platinumm have least number of observation"
   ]
  },
  {
   "cell_type": "code",
   "execution_count": 21,
   "metadata": {},
   "outputs": [
    {
     "data": {
      "text/html": [
       "<div>\n",
       "<style scoped>\n",
       "    .dataframe tbody tr th:only-of-type {\n",
       "        vertical-align: middle;\n",
       "    }\n",
       "\n",
       "    .dataframe tbody tr th {\n",
       "        vertical-align: top;\n",
       "    }\n",
       "\n",
       "    .dataframe thead th {\n",
       "        text-align: right;\n",
       "    }\n",
       "</style>\n",
       "<table border=\"1\" class=\"dataframe\">\n",
       "  <thead>\n",
       "    <tr style=\"text-align: right;\">\n",
       "      <th>card_type</th>\n",
       "      <th>Blue</th>\n",
       "      <th>Gold</th>\n",
       "      <th>Platinum</th>\n",
       "    </tr>\n",
       "    <tr>\n",
       "      <th>Month</th>\n",
       "      <th></th>\n",
       "      <th></th>\n",
       "      <th></th>\n",
       "    </tr>\n",
       "  </thead>\n",
       "  <tbody>\n",
       "    <tr>\n",
       "      <th>1301</th>\n",
       "      <td>451</td>\n",
       "      <td>439</td>\n",
       "      <td>445</td>\n",
       "    </tr>\n",
       "    <tr>\n",
       "      <th>1302</th>\n",
       "      <td>441</td>\n",
       "      <td>450</td>\n",
       "      <td>438</td>\n",
       "    </tr>\n",
       "    <tr>\n",
       "      <th>1303</th>\n",
       "      <td>450</td>\n",
       "      <td>457</td>\n",
       "      <td>451</td>\n",
       "    </tr>\n",
       "    <tr>\n",
       "      <th>1304</th>\n",
       "      <td>444</td>\n",
       "      <td>432</td>\n",
       "      <td>431</td>\n",
       "    </tr>\n",
       "    <tr>\n",
       "      <th>1305</th>\n",
       "      <td>456</td>\n",
       "      <td>462</td>\n",
       "      <td>429</td>\n",
       "    </tr>\n",
       "    <tr>\n",
       "      <th>1306</th>\n",
       "      <td>454</td>\n",
       "      <td>467</td>\n",
       "      <td>455</td>\n",
       "    </tr>\n",
       "  </tbody>\n",
       "</table>\n",
       "</div>"
      ],
      "text/plain": [
       "card_type  Blue  Gold  Platinum\n",
       "Month                          \n",
       "1301        451   439       445\n",
       "1302        441   450       438\n",
       "1303        450   457       451\n",
       "1304        444   432       431\n",
       "1305        456   462       429\n",
       "1306        454   467       455"
      ]
     },
     "execution_count": 21,
     "metadata": {},
     "output_type": "execute_result"
    }
   ],
   "source": [
    "pd.crosstab(df.Month, df.card_type)"
   ]
  },
  {
   "cell_type": "markdown",
   "metadata": {},
   "source": [
    "### Platinum Card Customer Analysis"
   ]
  },
  {
   "cell_type": "code",
   "execution_count": 22,
   "metadata": {
    "scrolled": false
   },
   "outputs": [
    {
     "data": {
      "text/html": [
       "<div>\n",
       "<style scoped>\n",
       "    .dataframe tbody tr th:only-of-type {\n",
       "        vertical-align: middle;\n",
       "    }\n",
       "\n",
       "    .dataframe tbody tr th {\n",
       "        vertical-align: top;\n",
       "    }\n",
       "\n",
       "    .dataframe thead th {\n",
       "        text-align: right;\n",
       "    }\n",
       "</style>\n",
       "<table border=\"1\" class=\"dataframe\">\n",
       "  <thead>\n",
       "    <tr style=\"text-align: right;\">\n",
       "      <th></th>\n",
       "      <th>Month</th>\n",
       "      <th>CLIENTNUM</th>\n",
       "      <th>wealth_tag</th>\n",
       "      <th>card_type</th>\n",
       "      <th>Revlv_ind</th>\n",
       "      <th>spend_category</th>\n",
       "      <th>Trans_amt</th>\n",
       "      <th>trans_cnt</th>\n",
       "    </tr>\n",
       "  </thead>\n",
       "  <tbody>\n",
       "    <tr>\n",
       "      <th>228</th>\n",
       "      <td>1301</td>\n",
       "      <td>5233857</td>\n",
       "      <td>High Net Worth</td>\n",
       "      <td>Platinum</td>\n",
       "      <td>Transactor</td>\n",
       "      <td>Entertainment</td>\n",
       "      <td>74.66</td>\n",
       "      <td>8</td>\n",
       "    </tr>\n",
       "    <tr>\n",
       "      <th>229</th>\n",
       "      <td>1301</td>\n",
       "      <td>5233857</td>\n",
       "      <td>High Net Worth</td>\n",
       "      <td>Platinum</td>\n",
       "      <td>Transactor</td>\n",
       "      <td>Personal</td>\n",
       "      <td>74.00</td>\n",
       "      <td>8</td>\n",
       "    </tr>\n",
       "    <tr>\n",
       "      <th>230</th>\n",
       "      <td>1301</td>\n",
       "      <td>4253063</td>\n",
       "      <td>High Net Worth</td>\n",
       "      <td>Platinum</td>\n",
       "      <td>Transactor</td>\n",
       "      <td>Grocery</td>\n",
       "      <td>221.97</td>\n",
       "      <td>23</td>\n",
       "    </tr>\n",
       "    <tr>\n",
       "      <th>231</th>\n",
       "      <td>1301</td>\n",
       "      <td>4253063</td>\n",
       "      <td>High Net Worth</td>\n",
       "      <td>Platinum</td>\n",
       "      <td>Transactor</td>\n",
       "      <td>Auto</td>\n",
       "      <td>151.94</td>\n",
       "      <td>16</td>\n",
       "    </tr>\n",
       "    <tr>\n",
       "      <th>232</th>\n",
       "      <td>1301</td>\n",
       "      <td>4253063</td>\n",
       "      <td>High Net Worth</td>\n",
       "      <td>Platinum</td>\n",
       "      <td>Transactor</td>\n",
       "      <td>Airlines</td>\n",
       "      <td>232.78</td>\n",
       "      <td>22</td>\n",
       "    </tr>\n",
       "  </tbody>\n",
       "</table>\n",
       "</div>"
      ],
      "text/plain": [
       "     Month  CLIENTNUM      wealth_tag card_type   Revlv_ind spend_category  \\\n",
       "228   1301    5233857  High Net Worth  Platinum  Transactor  Entertainment   \n",
       "229   1301    5233857  High Net Worth  Platinum  Transactor       Personal   \n",
       "230   1301    4253063  High Net Worth  Platinum  Transactor        Grocery   \n",
       "231   1301    4253063  High Net Worth  Platinum  Transactor           Auto   \n",
       "232   1301    4253063  High Net Worth  Platinum  Transactor       Airlines   \n",
       "\n",
       "     Trans_amt  trans_cnt  \n",
       "228      74.66          8  \n",
       "229      74.00          8  \n",
       "230     221.97         23  \n",
       "231     151.94         16  \n",
       "232     232.78         22  "
      ]
     },
     "execution_count": 22,
     "metadata": {},
     "output_type": "execute_result"
    }
   ],
   "source": [
    "platinum = df[df['card_type']=='Platinum']\n",
    "platinum.head()"
   ]
  },
  {
   "cell_type": "code",
   "execution_count": 23,
   "metadata": {},
   "outputs": [
    {
     "data": {
      "text/plain": [
       "<matplotlib.axes._subplots.AxesSubplot at 0x28fcb4febb0>"
      ]
     },
     "execution_count": 23,
     "metadata": {},
     "output_type": "execute_result"
    },
    {
     "data": {
      "image/png": "[encoded data removed]",
      "text/plain": [
       "<Figure size 432x288 with 1 Axes>"
      ]
     },
     "metadata": {
      "needs_background": "light"
     },
     "output_type": "display_data"
    }
   ],
   "source": [
    "sns.barplot(platinum['wealth_tag'], platinum['Trans_amt'])"
   ]
  },
  {
   "cell_type": "markdown",
   "metadata": {},
   "source": [
    "- Customer with Platinum Card and having wealth tag \"High net Worth\" had done Maximum Transactions\n",
    "- Customer with Platinum Card and having wealth tag \"MM\" had done Maximum Transactions"
   ]
  },
  {
   "cell_type": "code",
   "execution_count": 24,
   "metadata": {},
   "outputs": [
    {
     "data": {
      "text/plain": [
       "228     9.332500\n",
       "229     9.250000\n",
       "230     9.650870\n",
       "231     9.496250\n",
       "232    10.580909\n",
       "Name: Average_Spend, dtype: float64"
      ]
     },
     "execution_count": 24,
     "metadata": {},
     "output_type": "execute_result"
    }
   ],
   "source": [
    "platinum['Average_Spend'] = platinum['Trans_amt']/platinum['trans_cnt']\n",
    "platinum['Average_Spend'].head()"
   ]
  },
  {
   "cell_type": "code",
   "execution_count": 25,
   "metadata": {},
   "outputs": [
    {
     "data": {
      "text/html": [
       "<div>\n",
       "<style scoped>\n",
       "    .dataframe tbody tr th:only-of-type {\n",
       "        vertical-align: middle;\n",
       "    }\n",
       "\n",
       "    .dataframe tbody tr th {\n",
       "        vertical-align: top;\n",
       "    }\n",
       "\n",
       "    .dataframe thead th {\n",
       "        text-align: right;\n",
       "    }\n",
       "</style>\n",
       "<table border=\"1\" class=\"dataframe\">\n",
       "  <thead>\n",
       "    <tr style=\"text-align: right;\">\n",
       "      <th></th>\n",
       "      <th>CLIENTNUM</th>\n",
       "      <th>Trans_amt</th>\n",
       "      <th>trans_cnt</th>\n",
       "      <th>Average_Spend</th>\n",
       "      <th>months</th>\n",
       "    </tr>\n",
       "    <tr>\n",
       "      <th>Month</th>\n",
       "      <th></th>\n",
       "      <th></th>\n",
       "      <th></th>\n",
       "      <th></th>\n",
       "      <th></th>\n",
       "    </tr>\n",
       "  </thead>\n",
       "  <tbody>\n",
       "    <tr>\n",
       "      <th>1301</th>\n",
       "      <td>2202660730</td>\n",
       "      <td>27766.10</td>\n",
       "      <td>3014</td>\n",
       "      <td>3965.990216</td>\n",
       "      <td>1301</td>\n",
       "    </tr>\n",
       "    <tr>\n",
       "      <th>1302</th>\n",
       "      <td>2175427419</td>\n",
       "      <td>27174.21</td>\n",
       "      <td>2929</td>\n",
       "      <td>4005.730162</td>\n",
       "      <td>1302</td>\n",
       "    </tr>\n",
       "    <tr>\n",
       "      <th>1303</th>\n",
       "      <td>2248740679</td>\n",
       "      <td>30964.30</td>\n",
       "      <td>3332</td>\n",
       "      <td>4134.567352</td>\n",
       "      <td>1303</td>\n",
       "    </tr>\n",
       "    <tr>\n",
       "      <th>1304</th>\n",
       "      <td>2145203658</td>\n",
       "      <td>26331.11</td>\n",
       "      <td>2852</td>\n",
       "      <td>3944.735850</td>\n",
       "      <td>1304</td>\n",
       "    </tr>\n",
       "    <tr>\n",
       "      <th>1305</th>\n",
       "      <td>2145022749</td>\n",
       "      <td>27533.54</td>\n",
       "      <td>2959</td>\n",
       "      <td>3959.111942</td>\n",
       "      <td>1305</td>\n",
       "    </tr>\n",
       "  </tbody>\n",
       "</table>\n",
       "</div>"
      ],
      "text/plain": [
       "        CLIENTNUM  Trans_amt  trans_cnt  Average_Spend  months\n",
       "Month                                                         \n",
       "1301   2202660730   27766.10       3014    3965.990216    1301\n",
       "1302   2175427419   27174.21       2929    4005.730162    1302\n",
       "1303   2248740679   30964.30       3332    4134.567352    1303\n",
       "1304   2145203658   26331.11       2852    3944.735850    1304\n",
       "1305   2145022749   27533.54       2959    3959.111942    1305"
      ]
     },
     "execution_count": 25,
     "metadata": {},
     "output_type": "execute_result"
    }
   ],
   "source": [
    "df_p = platinum.groupby(['Month']).sum()\n",
    "df_p['months'] = df_p.index\n",
    "df_p.head()"
   ]
  },
  {
   "cell_type": "code",
   "execution_count": 26,
   "metadata": {},
   "outputs": [
    {
     "data": {
      "image/png": "[encoded data removed]",
      "text/plain": [
       "<Figure size 432x288 with 1 Axes>"
      ]
     },
     "metadata": {
      "needs_background": "light"
     },
     "output_type": "display_data"
    }
   ],
   "source": [
    "sns.lineplot(df_p['months'], df_p['Average_Spend'], color = 'g', marker='o', markersize = 10)\n",
    "plt.title('Average Amount spend by Customers having Platinum Card over 6 months')\n",
    "plt.show()"
   ]
  },
  {
   "cell_type": "markdown",
   "metadata": {},
   "source": [
    "- For only platinum card customers, Average transactions droped for month january, feb, and may\n",
    "- For month of june, they spend the most"
   ]
  },
  {
   "cell_type": "markdown",
   "metadata": {},
   "source": [
    "### Blue Card customer Analysis "
   ]
  },
  {
   "cell_type": "code",
   "execution_count": 27,
   "metadata": {},
   "outputs": [
    {
     "data": {
      "text/html": [
       "<div>\n",
       "<style scoped>\n",
       "    .dataframe tbody tr th:only-of-type {\n",
       "        vertical-align: middle;\n",
       "    }\n",
       "\n",
       "    .dataframe tbody tr th {\n",
       "        vertical-align: top;\n",
       "    }\n",
       "\n",
       "    .dataframe thead th {\n",
       "        text-align: right;\n",
       "    }\n",
       "</style>\n",
       "<table border=\"1\" class=\"dataframe\">\n",
       "  <thead>\n",
       "    <tr style=\"text-align: right;\">\n",
       "      <th></th>\n",
       "      <th>Month</th>\n",
       "      <th>CLIENTNUM</th>\n",
       "      <th>wealth_tag</th>\n",
       "      <th>card_type</th>\n",
       "      <th>Revlv_ind</th>\n",
       "      <th>spend_category</th>\n",
       "      <th>Trans_amt</th>\n",
       "      <th>trans_cnt</th>\n",
       "    </tr>\n",
       "  </thead>\n",
       "  <tbody>\n",
       "    <tr>\n",
       "      <th>0</th>\n",
       "      <td>1301</td>\n",
       "      <td>9124400</td>\n",
       "      <td>High Net Worth</td>\n",
       "      <td>Blue</td>\n",
       "      <td>Transactor</td>\n",
       "      <td>Grocery</td>\n",
       "      <td>76.40</td>\n",
       "      <td>9</td>\n",
       "    </tr>\n",
       "    <tr>\n",
       "      <th>1</th>\n",
       "      <td>1301</td>\n",
       "      <td>9124400</td>\n",
       "      <td>High Net Worth</td>\n",
       "      <td>Blue</td>\n",
       "      <td>Transactor</td>\n",
       "      <td>Auto</td>\n",
       "      <td>55.48</td>\n",
       "      <td>6</td>\n",
       "    </tr>\n",
       "    <tr>\n",
       "      <th>2</th>\n",
       "      <td>1301</td>\n",
       "      <td>5782042</td>\n",
       "      <td>High Net Worth</td>\n",
       "      <td>Blue</td>\n",
       "      <td>Transactor</td>\n",
       "      <td>Airlines</td>\n",
       "      <td>79.16</td>\n",
       "      <td>8</td>\n",
       "    </tr>\n",
       "    <tr>\n",
       "      <th>3</th>\n",
       "      <td>1301</td>\n",
       "      <td>5782042</td>\n",
       "      <td>High Net Worth</td>\n",
       "      <td>Blue</td>\n",
       "      <td>Transactor</td>\n",
       "      <td>Grocery</td>\n",
       "      <td>78.87</td>\n",
       "      <td>8</td>\n",
       "    </tr>\n",
       "    <tr>\n",
       "      <th>4</th>\n",
       "      <td>1301</td>\n",
       "      <td>5782042</td>\n",
       "      <td>High Net Worth</td>\n",
       "      <td>Blue</td>\n",
       "      <td>Transactor</td>\n",
       "      <td>Auto</td>\n",
       "      <td>58.00</td>\n",
       "      <td>6</td>\n",
       "    </tr>\n",
       "  </tbody>\n",
       "</table>\n",
       "</div>"
      ],
      "text/plain": [
       "   Month  CLIENTNUM      wealth_tag card_type   Revlv_ind spend_category  \\\n",
       "0   1301    9124400  High Net Worth      Blue  Transactor        Grocery   \n",
       "1   1301    9124400  High Net Worth      Blue  Transactor           Auto   \n",
       "2   1301    5782042  High Net Worth      Blue  Transactor       Airlines   \n",
       "3   1301    5782042  High Net Worth      Blue  Transactor        Grocery   \n",
       "4   1301    5782042  High Net Worth      Blue  Transactor           Auto   \n",
       "\n",
       "   Trans_amt  trans_cnt  \n",
       "0      76.40          9  \n",
       "1      55.48          6  \n",
       "2      79.16          8  \n",
       "3      78.87          8  \n",
       "4      58.00          6  "
      ]
     },
     "execution_count": 27,
     "metadata": {},
     "output_type": "execute_result"
    }
   ],
   "source": [
    "blue = df[df['card_type']=='Blue']\n",
    "blue.head()"
   ]
  },
  {
   "cell_type": "markdown",
   "metadata": {},
   "source": [
    "- Customer with Blue Card and having wealth tag \"High net Worth\" had done Maximum Transactions\n",
    "- Customer with Blue Card and having wealth tag \"MM\" had done Minimum Transactions"
   ]
  },
  {
   "cell_type": "code",
   "execution_count": 28,
   "metadata": {},
   "outputs": [
    {
     "data": {
      "text/plain": [
       "0    8.488889\n",
       "1    9.246667\n",
       "2    9.895000\n",
       "3    9.858750\n",
       "4    9.666667\n",
       "Name: Average_Spend, dtype: float64"
      ]
     },
     "execution_count": 28,
     "metadata": {},
     "output_type": "execute_result"
    }
   ],
   "source": [
    "blue['Average_Spend'] = blue['Trans_amt']/blue['trans_cnt']\n",
    "blue['Average_Spend'].head()"
   ]
  },
  {
   "cell_type": "code",
   "execution_count": 29,
   "metadata": {},
   "outputs": [
    {
     "data": {
      "text/html": [
       "<div>\n",
       "<style scoped>\n",
       "    .dataframe tbody tr th:only-of-type {\n",
       "        vertical-align: middle;\n",
       "    }\n",
       "\n",
       "    .dataframe tbody tr th {\n",
       "        vertical-align: top;\n",
       "    }\n",
       "\n",
       "    .dataframe thead th {\n",
       "        text-align: right;\n",
       "    }\n",
       "</style>\n",
       "<table border=\"1\" class=\"dataframe\">\n",
       "  <thead>\n",
       "    <tr style=\"text-align: right;\">\n",
       "      <th></th>\n",
       "      <th>CLIENTNUM</th>\n",
       "      <th>Trans_amt</th>\n",
       "      <th>trans_cnt</th>\n",
       "      <th>Average_Spend</th>\n",
       "      <th>months</th>\n",
       "    </tr>\n",
       "    <tr>\n",
       "      <th>Month</th>\n",
       "      <th></th>\n",
       "      <th></th>\n",
       "      <th></th>\n",
       "      <th></th>\n",
       "      <th></th>\n",
       "    </tr>\n",
       "  </thead>\n",
       "  <tbody>\n",
       "    <tr>\n",
       "      <th>1301</th>\n",
       "      <td>2163186239</td>\n",
       "      <td>11580.50</td>\n",
       "      <td>1365</td>\n",
       "      <td>3953.956214</td>\n",
       "      <td>1301</td>\n",
       "    </tr>\n",
       "    <tr>\n",
       "      <th>1302</th>\n",
       "      <td>2186987966</td>\n",
       "      <td>11753.26</td>\n",
       "      <td>1382</td>\n",
       "      <td>3808.754667</td>\n",
       "      <td>1302</td>\n",
       "    </tr>\n",
       "    <tr>\n",
       "      <th>1303</th>\n",
       "      <td>2182430398</td>\n",
       "      <td>12476.70</td>\n",
       "      <td>1489</td>\n",
       "      <td>3888.347821</td>\n",
       "      <td>1303</td>\n",
       "    </tr>\n",
       "    <tr>\n",
       "      <th>1304</th>\n",
       "      <td>2155949459</td>\n",
       "      <td>11569.83</td>\n",
       "      <td>1400</td>\n",
       "      <td>3719.630147</td>\n",
       "      <td>1304</td>\n",
       "    </tr>\n",
       "    <tr>\n",
       "      <th>1305</th>\n",
       "      <td>2277193971</td>\n",
       "      <td>11989.93</td>\n",
       "      <td>1454</td>\n",
       "      <td>3904.448984</td>\n",
       "      <td>1305</td>\n",
       "    </tr>\n",
       "  </tbody>\n",
       "</table>\n",
       "</div>"
      ],
      "text/plain": [
       "        CLIENTNUM  Trans_amt  trans_cnt  Average_Spend  months\n",
       "Month                                                         \n",
       "1301   2163186239   11580.50       1365    3953.956214    1301\n",
       "1302   2186987966   11753.26       1382    3808.754667    1302\n",
       "1303   2182430398   12476.70       1489    3888.347821    1303\n",
       "1304   2155949459   11569.83       1400    3719.630147    1304\n",
       "1305   2277193971   11989.93       1454    3904.448984    1305"
      ]
     },
     "execution_count": 29,
     "metadata": {},
     "output_type": "execute_result"
    }
   ],
   "source": [
    "df_b = blue.groupby(['Month']).sum()\n",
    "df_b['months'] = df_b.index\n",
    "df_b.head()"
   ]
  },
  {
   "cell_type": "code",
   "execution_count": 30,
   "metadata": {},
   "outputs": [
    {
     "data": {
      "image/png": "[encoded data removed]",
      "text/plain": [
       "<Figure size 432x288 with 1 Axes>"
      ]
     },
     "metadata": {
      "needs_background": "light"
     },
     "output_type": "display_data"
    }
   ],
   "source": [
    "sns.lineplot(df_b['months'], df_b['Trans_amt'], color = 'b', marker='o', markersize = 10)\n",
    "plt.title('Total Amount spend by Customers having Blue Card over 6 months')\n",
    "plt.show()"
   ]
  },
  {
   "cell_type": "markdown",
   "metadata": {},
   "source": [
    "- Blue card users also spend most in month march and june"
   ]
  },
  {
   "cell_type": "code",
   "execution_count": 31,
   "metadata": {},
   "outputs": [
    {
     "data": {
      "image/png": "[encoded data removed]",
      "text/plain": [
       "<Figure size 432x288 with 1 Axes>"
      ]
     },
     "metadata": {
      "needs_background": "light"
     },
     "output_type": "display_data"
    }
   ],
   "source": [
    "sns.lineplot(df_b['months'], df_b['Average_Spend'], color = 'b', marker='o', markersize = 10)\n",
    "plt.title('Average Amount spend by Customers having Blue Card over 6 months')\n",
    "plt.show()"
   ]
  },
  {
   "cell_type": "markdown",
   "metadata": {},
   "source": [
    "There is Drastic change in Analaysis of Blue card customers:\n",
    "- For month of january and june they have high average transaction amount value\n",
    "- In month of April, they spend the least"
   ]
  },
  {
   "cell_type": "markdown",
   "metadata": {},
   "source": [
    "### Analysing Data with respect to Spend Category"
   ]
  },
  {
   "cell_type": "code",
   "execution_count": 32,
   "metadata": {
    "scrolled": true
   },
   "outputs": [
    {
     "data": {
      "text/html": [
       "<div>\n",
       "<style scoped>\n",
       "    .dataframe tbody tr th:only-of-type {\n",
       "        vertical-align: middle;\n",
       "    }\n",
       "\n",
       "    .dataframe tbody tr th {\n",
       "        vertical-align: top;\n",
       "    }\n",
       "\n",
       "    .dataframe thead th {\n",
       "        text-align: right;\n",
       "    }\n",
       "</style>\n",
       "<table border=\"1\" class=\"dataframe\">\n",
       "  <thead>\n",
       "    <tr style=\"text-align: right;\">\n",
       "      <th>spend_category</th>\n",
       "      <th>Airlines</th>\n",
       "      <th>Auto</th>\n",
       "      <th>Business</th>\n",
       "      <th>Entertainment</th>\n",
       "      <th>Grocery</th>\n",
       "      <th>Personal</th>\n",
       "    </tr>\n",
       "    <tr>\n",
       "      <th>Month</th>\n",
       "      <th></th>\n",
       "      <th></th>\n",
       "      <th></th>\n",
       "      <th></th>\n",
       "      <th></th>\n",
       "      <th></th>\n",
       "    </tr>\n",
       "  </thead>\n",
       "  <tbody>\n",
       "    <tr>\n",
       "      <th>1301</th>\n",
       "      <td>232</td>\n",
       "      <td>231</td>\n",
       "      <td>225</td>\n",
       "      <td>212</td>\n",
       "      <td>225</td>\n",
       "      <td>210</td>\n",
       "    </tr>\n",
       "    <tr>\n",
       "      <th>1302</th>\n",
       "      <td>219</td>\n",
       "      <td>202</td>\n",
       "      <td>212</td>\n",
       "      <td>232</td>\n",
       "      <td>221</td>\n",
       "      <td>243</td>\n",
       "    </tr>\n",
       "    <tr>\n",
       "      <th>1303</th>\n",
       "      <td>227</td>\n",
       "      <td>230</td>\n",
       "      <td>230</td>\n",
       "      <td>235</td>\n",
       "      <td>220</td>\n",
       "      <td>216</td>\n",
       "    </tr>\n",
       "    <tr>\n",
       "      <th>1304</th>\n",
       "      <td>200</td>\n",
       "      <td>235</td>\n",
       "      <td>227</td>\n",
       "      <td>211</td>\n",
       "      <td>214</td>\n",
       "      <td>220</td>\n",
       "    </tr>\n",
       "    <tr>\n",
       "      <th>1305</th>\n",
       "      <td>236</td>\n",
       "      <td>224</td>\n",
       "      <td>209</td>\n",
       "      <td>223</td>\n",
       "      <td>236</td>\n",
       "      <td>219</td>\n",
       "    </tr>\n",
       "    <tr>\n",
       "      <th>1306</th>\n",
       "      <td>223</td>\n",
       "      <td>217</td>\n",
       "      <td>236</td>\n",
       "      <td>245</td>\n",
       "      <td>224</td>\n",
       "      <td>231</td>\n",
       "    </tr>\n",
       "  </tbody>\n",
       "</table>\n",
       "</div>"
      ],
      "text/plain": [
       "spend_category  Airlines  Auto  Business  Entertainment  Grocery  Personal\n",
       "Month                                                                     \n",
       "1301                 232   231       225            212      225       210\n",
       "1302                 219   202       212            232      221       243\n",
       "1303                 227   230       230            235      220       216\n",
       "1304                 200   235       227            211      214       220\n",
       "1305                 236   224       209            223      236       219\n",
       "1306                 223   217       236            245      224       231"
      ]
     },
     "execution_count": 32,
     "metadata": {},
     "output_type": "execute_result"
    }
   ],
   "source": [
    "pd.crosstab(df.Month, df.spend_category)"
   ]
  },
  {
   "cell_type": "code",
   "execution_count": 33,
   "metadata": {
    "scrolled": true
   },
   "outputs": [
    {
     "data": {
      "text/plain": [
       "<matplotlib.axes._subplots.AxesSubplot at 0x28fcb7bc400>"
      ]
     },
     "execution_count": 33,
     "metadata": {},
     "output_type": "execute_result"
    },
    {
     "data": {
      "image/png": "[encoded data removed]",
      "text/plain": [
       "<Figure size 432x288 with 1 Axes>"
      ]
     },
     "metadata": {
      "needs_background": "light"
     },
     "output_type": "display_data"
    }
   ],
   "source": [
    "sns.pointplot(df.spend_category, df.Trans_amt, color='darkgreen')"
   ]
  },
  {
   "cell_type": "markdown",
   "metadata": {},
   "source": [
    "- Most of the customers do their transaction for Grocery and Airlines\n",
    "- Customers usually don't spend much on Personal things and Entertainment "
   ]
  },
  {
   "cell_type": "markdown",
   "metadata": {},
   "source": [
    "### Grocery Analysis"
   ]
  },
  {
   "cell_type": "code",
   "execution_count": 34,
   "metadata": {},
   "outputs": [
    {
     "data": {
      "text/html": [
       "<div>\n",
       "<style scoped>\n",
       "    .dataframe tbody tr th:only-of-type {\n",
       "        vertical-align: middle;\n",
       "    }\n",
       "\n",
       "    .dataframe tbody tr th {\n",
       "        vertical-align: top;\n",
       "    }\n",
       "\n",
       "    .dataframe thead th {\n",
       "        text-align: right;\n",
       "    }\n",
       "</style>\n",
       "<table border=\"1\" class=\"dataframe\">\n",
       "  <thead>\n",
       "    <tr style=\"text-align: right;\">\n",
       "      <th></th>\n",
       "      <th>Month</th>\n",
       "      <th>CLIENTNUM</th>\n",
       "      <th>wealth_tag</th>\n",
       "      <th>card_type</th>\n",
       "      <th>Revlv_ind</th>\n",
       "      <th>spend_category</th>\n",
       "      <th>Trans_amt</th>\n",
       "      <th>trans_cnt</th>\n",
       "    </tr>\n",
       "  </thead>\n",
       "  <tbody>\n",
       "    <tr>\n",
       "      <th>0</th>\n",
       "      <td>1301</td>\n",
       "      <td>9124400</td>\n",
       "      <td>High Net Worth</td>\n",
       "      <td>Blue</td>\n",
       "      <td>Transactor</td>\n",
       "      <td>Grocery</td>\n",
       "      <td>76.40</td>\n",
       "      <td>9</td>\n",
       "    </tr>\n",
       "    <tr>\n",
       "      <th>3</th>\n",
       "      <td>1301</td>\n",
       "      <td>5782042</td>\n",
       "      <td>High Net Worth</td>\n",
       "      <td>Blue</td>\n",
       "      <td>Transactor</td>\n",
       "      <td>Grocery</td>\n",
       "      <td>78.87</td>\n",
       "      <td>8</td>\n",
       "    </tr>\n",
       "    <tr>\n",
       "      <th>8</th>\n",
       "      <td>1301</td>\n",
       "      <td>4653449</td>\n",
       "      <td>High Net Worth</td>\n",
       "      <td>Blue</td>\n",
       "      <td>Transactor</td>\n",
       "      <td>Grocery</td>\n",
       "      <td>80.43</td>\n",
       "      <td>9</td>\n",
       "    </tr>\n",
       "    <tr>\n",
       "      <th>10</th>\n",
       "      <td>1301</td>\n",
       "      <td>1929367</td>\n",
       "      <td>High Net Worth</td>\n",
       "      <td>Blue</td>\n",
       "      <td>Transactor</td>\n",
       "      <td>Grocery</td>\n",
       "      <td>68.02</td>\n",
       "      <td>7</td>\n",
       "    </tr>\n",
       "    <tr>\n",
       "      <th>12</th>\n",
       "      <td>1301</td>\n",
       "      <td>5225795</td>\n",
       "      <td>High Net Worth</td>\n",
       "      <td>Blue</td>\n",
       "      <td>Transactor</td>\n",
       "      <td>Grocery</td>\n",
       "      <td>58.84</td>\n",
       "      <td>7</td>\n",
       "    </tr>\n",
       "  </tbody>\n",
       "</table>\n",
       "</div>"
      ],
      "text/plain": [
       "    Month  CLIENTNUM      wealth_tag card_type   Revlv_ind spend_category  \\\n",
       "0    1301    9124400  High Net Worth      Blue  Transactor        Grocery   \n",
       "3    1301    5782042  High Net Worth      Blue  Transactor        Grocery   \n",
       "8    1301    4653449  High Net Worth      Blue  Transactor        Grocery   \n",
       "10   1301    1929367  High Net Worth      Blue  Transactor        Grocery   \n",
       "12   1301    5225795  High Net Worth      Blue  Transactor        Grocery   \n",
       "\n",
       "    Trans_amt  trans_cnt  \n",
       "0       76.40          9  \n",
       "3       78.87          8  \n",
       "8       80.43          9  \n",
       "10      68.02          7  \n",
       "12      58.84          7  "
      ]
     },
     "execution_count": 34,
     "metadata": {},
     "output_type": "execute_result"
    }
   ],
   "source": [
    "grocey = df[df['spend_category']=='Grocery']\n",
    "grocey.head()"
   ]
  },
  {
   "cell_type": "code",
   "execution_count": 35,
   "metadata": {},
   "outputs": [
    {
     "data": {
      "text/plain": [
       "0     8.488889\n",
       "3     9.858750\n",
       "8     8.936667\n",
       "10    9.717143\n",
       "12    8.405714\n",
       "Name: Average_Spend, dtype: float64"
      ]
     },
     "execution_count": 35,
     "metadata": {},
     "output_type": "execute_result"
    }
   ],
   "source": [
    "grocey['Average_Spend'] = grocey['Trans_amt']/grocey['trans_cnt']\n",
    "grocey['Average_Spend'].head()"
   ]
  },
  {
   "cell_type": "code",
   "execution_count": 36,
   "metadata": {},
   "outputs": [
    {
     "data": {
      "text/html": [
       "<div>\n",
       "<style scoped>\n",
       "    .dataframe tbody tr th:only-of-type {\n",
       "        vertical-align: middle;\n",
       "    }\n",
       "\n",
       "    .dataframe tbody tr th {\n",
       "        vertical-align: top;\n",
       "    }\n",
       "\n",
       "    .dataframe thead th {\n",
       "        text-align: right;\n",
       "    }\n",
       "</style>\n",
       "<table border=\"1\" class=\"dataframe\">\n",
       "  <thead>\n",
       "    <tr style=\"text-align: right;\">\n",
       "      <th></th>\n",
       "      <th>CLIENTNUM</th>\n",
       "      <th>Trans_amt</th>\n",
       "      <th>trans_cnt</th>\n",
       "      <th>Average_Spend</th>\n",
       "      <th>months</th>\n",
       "    </tr>\n",
       "    <tr>\n",
       "      <th>Month</th>\n",
       "      <th></th>\n",
       "      <th></th>\n",
       "      <th></th>\n",
       "      <th></th>\n",
       "      <th></th>\n",
       "    </tr>\n",
       "  </thead>\n",
       "  <tbody>\n",
       "    <tr>\n",
       "      <th>1301</th>\n",
       "      <td>1158031159</td>\n",
       "      <td>14729.00</td>\n",
       "      <td>1565</td>\n",
       "      <td>2117.810413</td>\n",
       "      <td>1301</td>\n",
       "    </tr>\n",
       "    <tr>\n",
       "      <th>1302</th>\n",
       "      <td>1110645292</td>\n",
       "      <td>12894.08</td>\n",
       "      <td>1417</td>\n",
       "      <td>1965.327450</td>\n",
       "      <td>1302</td>\n",
       "    </tr>\n",
       "    <tr>\n",
       "      <th>1303</th>\n",
       "      <td>1066818726</td>\n",
       "      <td>15233.61</td>\n",
       "      <td>1650</td>\n",
       "      <td>1986.058136</td>\n",
       "      <td>1303</td>\n",
       "    </tr>\n",
       "    <tr>\n",
       "      <th>1304</th>\n",
       "      <td>1020334901</td>\n",
       "      <td>12906.06</td>\n",
       "      <td>1406</td>\n",
       "      <td>1907.423350</td>\n",
       "      <td>1304</td>\n",
       "    </tr>\n",
       "    <tr>\n",
       "      <th>1305</th>\n",
       "      <td>1186658752</td>\n",
       "      <td>15045.01</td>\n",
       "      <td>1624</td>\n",
       "      <td>2170.086734</td>\n",
       "      <td>1305</td>\n",
       "    </tr>\n",
       "  </tbody>\n",
       "</table>\n",
       "</div>"
      ],
      "text/plain": [
       "        CLIENTNUM  Trans_amt  trans_cnt  Average_Spend  months\n",
       "Month                                                         \n",
       "1301   1158031159   14729.00       1565    2117.810413    1301\n",
       "1302   1110645292   12894.08       1417    1965.327450    1302\n",
       "1303   1066818726   15233.61       1650    1986.058136    1303\n",
       "1304   1020334901   12906.06       1406    1907.423350    1304\n",
       "1305   1186658752   15045.01       1624    2170.086734    1305"
      ]
     },
     "execution_count": 36,
     "metadata": {},
     "output_type": "execute_result"
    }
   ],
   "source": [
    "df_g = grocey.groupby(['Month']).sum()\n",
    "df_g['months'] = df_g.index\n",
    "df_g.head()"
   ]
  },
  {
   "cell_type": "code",
   "execution_count": 37,
   "metadata": {},
   "outputs": [
    {
     "data": {
      "image/png": "[encoded data removed]",
      "text/plain": [
       "<Figure size 432x288 with 1 Axes>"
      ]
     },
     "metadata": {
      "needs_background": "light"
     },
     "output_type": "display_data"
    }
   ],
   "source": [
    "sns.lineplot(df_g['months'], df_g['Trans_amt'], color = 'orange', marker='o', markersize = 10)\n",
    "plt.title('Total Amount spend by Customers in Grocery over 6 months')\n",
    "plt.show()"
   ]
  },
  {
   "cell_type": "markdown",
   "metadata": {},
   "source": [
    "- In the month of feb, and april customers spend least on grocery"
   ]
  },
  {
   "cell_type": "code",
   "execution_count": 38,
   "metadata": {},
   "outputs": [
    {
     "data": {
      "image/png": "[encoded data removed]",
      "text/plain": [
       "<Figure size 432x288 with 1 Axes>"
      ]
     },
     "metadata": {
      "needs_background": "light"
     },
     "output_type": "display_data"
    }
   ],
   "source": [
    "sns.lineplot(df_g['months'], df_g['Average_Spend'], color = 'orange', marker='o', markersize = 10)\n",
    "plt.title('Average Amount spend by Customers in Grocery over 6 months')\n",
    "plt.show()"
   ]
  },
  {
   "cell_type": "markdown",
   "metadata": {},
   "source": [
    "Average transaction analaysis over 6 months\n",
    "- In month of may, customers have maximum average transaction on grocery"
   ]
  },
  {
   "cell_type": "markdown",
   "metadata": {},
   "source": [
    "### Airlines Analysis"
   ]
  },
  {
   "cell_type": "code",
   "execution_count": 39,
   "metadata": {},
   "outputs": [
    {
     "data": {
      "text/html": [
       "<div>\n",
       "<style scoped>\n",
       "    .dataframe tbody tr th:only-of-type {\n",
       "        vertical-align: middle;\n",
       "    }\n",
       "\n",
       "    .dataframe tbody tr th {\n",
       "        vertical-align: top;\n",
       "    }\n",
       "\n",
       "    .dataframe thead th {\n",
       "        text-align: right;\n",
       "    }\n",
       "</style>\n",
       "<table border=\"1\" class=\"dataframe\">\n",
       "  <thead>\n",
       "    <tr style=\"text-align: right;\">\n",
       "      <th></th>\n",
       "      <th>Month</th>\n",
       "      <th>CLIENTNUM</th>\n",
       "      <th>wealth_tag</th>\n",
       "      <th>card_type</th>\n",
       "      <th>Revlv_ind</th>\n",
       "      <th>spend_category</th>\n",
       "      <th>Trans_amt</th>\n",
       "      <th>trans_cnt</th>\n",
       "    </tr>\n",
       "  </thead>\n",
       "  <tbody>\n",
       "    <tr>\n",
       "      <th>2</th>\n",
       "      <td>1301</td>\n",
       "      <td>5782042</td>\n",
       "      <td>High Net Worth</td>\n",
       "      <td>Blue</td>\n",
       "      <td>Transactor</td>\n",
       "      <td>Airlines</td>\n",
       "      <td>79.16</td>\n",
       "      <td>8</td>\n",
       "    </tr>\n",
       "    <tr>\n",
       "      <th>6</th>\n",
       "      <td>1301</td>\n",
       "      <td>3427120</td>\n",
       "      <td>High Net Worth</td>\n",
       "      <td>Blue</td>\n",
       "      <td>Transactor</td>\n",
       "      <td>Airlines</td>\n",
       "      <td>72.82</td>\n",
       "      <td>9</td>\n",
       "    </tr>\n",
       "    <tr>\n",
       "      <th>14</th>\n",
       "      <td>1301</td>\n",
       "      <td>5225795</td>\n",
       "      <td>High Net Worth</td>\n",
       "      <td>Blue</td>\n",
       "      <td>Transactor</td>\n",
       "      <td>Airlines</td>\n",
       "      <td>76.69</td>\n",
       "      <td>8</td>\n",
       "    </tr>\n",
       "    <tr>\n",
       "      <th>18</th>\n",
       "      <td>1301</td>\n",
       "      <td>8929607</td>\n",
       "      <td>High Net Worth</td>\n",
       "      <td>Blue</td>\n",
       "      <td>Transactor</td>\n",
       "      <td>Airlines</td>\n",
       "      <td>61.80</td>\n",
       "      <td>6</td>\n",
       "    </tr>\n",
       "    <tr>\n",
       "      <th>20</th>\n",
       "      <td>1301</td>\n",
       "      <td>9603312</td>\n",
       "      <td>High Net Worth</td>\n",
       "      <td>Blue</td>\n",
       "      <td>Transactor</td>\n",
       "      <td>Airlines</td>\n",
       "      <td>63.92</td>\n",
       "      <td>7</td>\n",
       "    </tr>\n",
       "  </tbody>\n",
       "</table>\n",
       "</div>"
      ],
      "text/plain": [
       "    Month  CLIENTNUM      wealth_tag card_type   Revlv_ind spend_category  \\\n",
       "2    1301    5782042  High Net Worth      Blue  Transactor       Airlines   \n",
       "6    1301    3427120  High Net Worth      Blue  Transactor       Airlines   \n",
       "14   1301    5225795  High Net Worth      Blue  Transactor       Airlines   \n",
       "18   1301    8929607  High Net Worth      Blue  Transactor       Airlines   \n",
       "20   1301    9603312  High Net Worth      Blue  Transactor       Airlines   \n",
       "\n",
       "    Trans_amt  trans_cnt  \n",
       "2       79.16          8  \n",
       "6       72.82          9  \n",
       "14      76.69          8  \n",
       "18      61.80          6  \n",
       "20      63.92          7  "
      ]
     },
     "execution_count": 39,
     "metadata": {},
     "output_type": "execute_result"
    }
   ],
   "source": [
    "airlines = df[df['spend_category']=='Airlines']\n",
    "airlines.head()"
   ]
  },
  {
   "cell_type": "code",
   "execution_count": 40,
   "metadata": {},
   "outputs": [
    {
     "data": {
      "text/html": [
       "<div>\n",
       "<style scoped>\n",
       "    .dataframe tbody tr th:only-of-type {\n",
       "        vertical-align: middle;\n",
       "    }\n",
       "\n",
       "    .dataframe tbody tr th {\n",
       "        vertical-align: top;\n",
       "    }\n",
       "\n",
       "    .dataframe thead th {\n",
       "        text-align: right;\n",
       "    }\n",
       "</style>\n",
       "<table border=\"1\" class=\"dataframe\">\n",
       "  <thead>\n",
       "    <tr style=\"text-align: right;\">\n",
       "      <th></th>\n",
       "      <th>CLIENTNUM</th>\n",
       "      <th>Trans_amt</th>\n",
       "      <th>trans_cnt</th>\n",
       "      <th>months</th>\n",
       "    </tr>\n",
       "    <tr>\n",
       "      <th>Month</th>\n",
       "      <th></th>\n",
       "      <th></th>\n",
       "      <th></th>\n",
       "      <th></th>\n",
       "    </tr>\n",
       "  </thead>\n",
       "  <tbody>\n",
       "    <tr>\n",
       "      <th>1301</th>\n",
       "      <td>1191877380</td>\n",
       "      <td>14327.19</td>\n",
       "      <td>1524</td>\n",
       "      <td>1301</td>\n",
       "    </tr>\n",
       "    <tr>\n",
       "      <th>1302</th>\n",
       "      <td>1115598619</td>\n",
       "      <td>14947.89</td>\n",
       "      <td>1597</td>\n",
       "      <td>1302</td>\n",
       "    </tr>\n",
       "    <tr>\n",
       "      <th>1303</th>\n",
       "      <td>1113853865</td>\n",
       "      <td>14785.93</td>\n",
       "      <td>1602</td>\n",
       "      <td>1303</td>\n",
       "    </tr>\n",
       "    <tr>\n",
       "      <th>1304</th>\n",
       "      <td>1004098348</td>\n",
       "      <td>12523.26</td>\n",
       "      <td>1365</td>\n",
       "      <td>1304</td>\n",
       "    </tr>\n",
       "    <tr>\n",
       "      <th>1305</th>\n",
       "      <td>1234689480</td>\n",
       "      <td>14866.17</td>\n",
       "      <td>1609</td>\n",
       "      <td>1305</td>\n",
       "    </tr>\n",
       "  </tbody>\n",
       "</table>\n",
       "</div>"
      ],
      "text/plain": [
       "        CLIENTNUM  Trans_amt  trans_cnt  months\n",
       "Month                                          \n",
       "1301   1191877380   14327.19       1524    1301\n",
       "1302   1115598619   14947.89       1597    1302\n",
       "1303   1113853865   14785.93       1602    1303\n",
       "1304   1004098348   12523.26       1365    1304\n",
       "1305   1234689480   14866.17       1609    1305"
      ]
     },
     "execution_count": 40,
     "metadata": {},
     "output_type": "execute_result"
    }
   ],
   "source": [
    "df_a = airlines.groupby(['Month']).sum()\n",
    "df_a['months'] = df_a.index\n",
    "df_a.head()"
   ]
  },
  {
   "cell_type": "code",
   "execution_count": 41,
   "metadata": {},
   "outputs": [
    {
     "data": {
      "image/png": "[encoded data removed]",
      "text/plain": [
       "<Figure size 432x288 with 1 Axes>"
      ]
     },
     "metadata": {
      "needs_background": "light"
     },
     "output_type": "display_data"
    }
   ],
   "source": [
    "sns.lineplot(df_a['months'], df_a['Trans_amt'], color = 'blue', marker='o', markersize = 10)\n",
    "plt.title('Total Amount spend by Customers in Airlines over 6 months')\n",
    "plt.show()"
   ]
  },
  {
   "cell_type": "markdown",
   "metadata": {},
   "source": [
    "- Customers usually don't book airlines in month of april"
   ]
  },
  {
   "cell_type": "markdown",
   "metadata": {},
   "source": [
    "### Analysis with respect to Revlv_ind"
   ]
  },
  {
   "cell_type": "code",
   "execution_count": 42,
   "metadata": {
    "scrolled": true
   },
   "outputs": [
    {
     "data": {
      "text/plain": [
       "<matplotlib.axes._subplots.AxesSubplot at 0x28fcb81c1f0>"
      ]
     },
     "execution_count": 42,
     "metadata": {},
     "output_type": "execute_result"
    },
    {
     "data": {
      "image/png": "[encoded data removed]",
      "text/plain": [
       "<Figure size 432x288 with 1 Axes>"
      ]
     },
     "metadata": {
      "needs_background": "light"
     },
     "output_type": "display_data"
    }
   ],
   "source": [
    "sns.pointplot(df.Revlv_ind, df.Trans_amt)"
   ]
  },
  {
   "cell_type": "markdown",
   "metadata": {},
   "source": [
    "- Customers from Trasactor contributes the most in transaction amount\n",
    "- Customer from Delinquent had done Minimum Transactions"
   ]
  },
  {
   "cell_type": "markdown",
   "metadata": {},
   "source": [
    "### Analysis with respect to Wealth tag"
   ]
  },
  {
   "cell_type": "code",
   "execution_count": 43,
   "metadata": {},
   "outputs": [
    {
     "data": {
      "text/plain": [
       "<matplotlib.axes._subplots.AxesSubplot at 0x28fccd256a0>"
      ]
     },
     "execution_count": 43,
     "metadata": {},
     "output_type": "execute_result"
    },
    {
     "data": {
      "image/png": "[encoded data removed]",
      "text/plain": [
       "<Figure size 432x288 with 1 Axes>"
      ]
     },
     "metadata": {
      "needs_background": "light"
     },
     "output_type": "display_data"
    }
   ],
   "source": [
    "sns.pointplot(data['wealth_tag'], data['Trans_amt'])"
   ]
  },
  {
   "cell_type": "markdown",
   "metadata": {},
   "source": [
    "- Customer with  wealth tag \"High net Worth\" had done Maximum Transactions \n",
    "- Customer with  wealth tag \"MM\" had done Minimum Transactions \n"
   ]
  },
  {
   "cell_type": "markdown",
   "metadata": {},
   "source": [
    "<h2 align='center'> Conclusion </h2>\n",
    "\n",
    "<hr>\n",
    "\n",
    "**Customer who spend the Most**\n",
    "\n",
    "- Customers with wealth tag \" High Net Worth \"\n",
    "- Customers with card_type \" Platinum\"\n",
    "- Customers from  Occasional_Revolver \n",
    "- Customers spend most at Airlines and Grocery\n",
    "\n",
    "**Customer who spend the Least**\n",
    "\n",
    "- Customers with wealth tag \" MM \"\n",
    "- Customers with card_type \" Blue \"\n",
    "- Customers from Delinquent\n",
    "- Customers spend Least at Entertainment and Personal"
   ]
  },
  {
   "cell_type": "markdown",
   "metadata": {},
   "source": [
    "<h3 align='center'> Analysing seperately </h3>\n",
    "\n",
    "### Taking all the Categories who spend the Least"
   ]
  },
  {
   "cell_type": "code",
   "execution_count": 44,
   "metadata": {},
   "outputs": [
    {
     "data": {
      "text/html": [
       "<div>\n",
       "<style scoped>\n",
       "    .dataframe tbody tr th:only-of-type {\n",
       "        vertical-align: middle;\n",
       "    }\n",
       "\n",
       "    .dataframe tbody tr th {\n",
       "        vertical-align: top;\n",
       "    }\n",
       "\n",
       "    .dataframe thead th {\n",
       "        text-align: right;\n",
       "    }\n",
       "</style>\n",
       "<table border=\"1\" class=\"dataframe\">\n",
       "  <thead>\n",
       "    <tr style=\"text-align: right;\">\n",
       "      <th></th>\n",
       "      <th>Month</th>\n",
       "      <th>CLIENTNUM</th>\n",
       "      <th>wealth_tag</th>\n",
       "      <th>card_type</th>\n",
       "      <th>Revlv_ind</th>\n",
       "      <th>spend_category</th>\n",
       "      <th>Trans_amt</th>\n",
       "      <th>trans_cnt</th>\n",
       "    </tr>\n",
       "  </thead>\n",
       "  <tbody>\n",
       "    <tr>\n",
       "      <th>0</th>\n",
       "      <td>1301</td>\n",
       "      <td>9124400</td>\n",
       "      <td>High Net Worth</td>\n",
       "      <td>Blue</td>\n",
       "      <td>Transactor</td>\n",
       "      <td>Grocery</td>\n",
       "      <td>76.40</td>\n",
       "      <td>9</td>\n",
       "    </tr>\n",
       "    <tr>\n",
       "      <th>1</th>\n",
       "      <td>1301</td>\n",
       "      <td>9124400</td>\n",
       "      <td>High Net Worth</td>\n",
       "      <td>Blue</td>\n",
       "      <td>Transactor</td>\n",
       "      <td>Auto</td>\n",
       "      <td>55.48</td>\n",
       "      <td>6</td>\n",
       "    </tr>\n",
       "    <tr>\n",
       "      <th>2</th>\n",
       "      <td>1301</td>\n",
       "      <td>5782042</td>\n",
       "      <td>High Net Worth</td>\n",
       "      <td>Blue</td>\n",
       "      <td>Transactor</td>\n",
       "      <td>Airlines</td>\n",
       "      <td>79.16</td>\n",
       "      <td>8</td>\n",
       "    </tr>\n",
       "    <tr>\n",
       "      <th>3</th>\n",
       "      <td>1301</td>\n",
       "      <td>5782042</td>\n",
       "      <td>High Net Worth</td>\n",
       "      <td>Blue</td>\n",
       "      <td>Transactor</td>\n",
       "      <td>Grocery</td>\n",
       "      <td>78.87</td>\n",
       "      <td>8</td>\n",
       "    </tr>\n",
       "    <tr>\n",
       "      <th>4</th>\n",
       "      <td>1301</td>\n",
       "      <td>5782042</td>\n",
       "      <td>High Net Worth</td>\n",
       "      <td>Blue</td>\n",
       "      <td>Transactor</td>\n",
       "      <td>Auto</td>\n",
       "      <td>58.00</td>\n",
       "      <td>6</td>\n",
       "    </tr>\n",
       "  </tbody>\n",
       "</table>\n",
       "</div>"
      ],
      "text/plain": [
       "   Month  CLIENTNUM      wealth_tag card_type   Revlv_ind spend_category  \\\n",
       "0   1301    9124400  High Net Worth      Blue  Transactor        Grocery   \n",
       "1   1301    9124400  High Net Worth      Blue  Transactor           Auto   \n",
       "2   1301    5782042  High Net Worth      Blue  Transactor       Airlines   \n",
       "3   1301    5782042  High Net Worth      Blue  Transactor        Grocery   \n",
       "4   1301    5782042  High Net Worth      Blue  Transactor           Auto   \n",
       "\n",
       "   Trans_amt  trans_cnt  \n",
       "0      76.40          9  \n",
       "1      55.48          6  \n",
       "2      79.16          8  \n",
       "3      78.87          8  \n",
       "4      58.00          6  "
      ]
     },
     "execution_count": 44,
     "metadata": {},
     "output_type": "execute_result"
    }
   ],
   "source": [
    "df.head()"
   ]
  },
  {
   "cell_type": "code",
   "execution_count": 45,
   "metadata": {},
   "outputs": [
    {
     "data": {
      "text/html": [
       "<div>\n",
       "<style scoped>\n",
       "    .dataframe tbody tr th:only-of-type {\n",
       "        vertical-align: middle;\n",
       "    }\n",
       "\n",
       "    .dataframe tbody tr th {\n",
       "        vertical-align: top;\n",
       "    }\n",
       "\n",
       "    .dataframe thead th {\n",
       "        text-align: right;\n",
       "    }\n",
       "</style>\n",
       "<table border=\"1\" class=\"dataframe\">\n",
       "  <thead>\n",
       "    <tr style=\"text-align: right;\">\n",
       "      <th></th>\n",
       "      <th>Month</th>\n",
       "      <th>CLIENTNUM</th>\n",
       "      <th>wealth_tag</th>\n",
       "      <th>card_type</th>\n",
       "      <th>Revlv_ind</th>\n",
       "      <th>spend_category</th>\n",
       "      <th>Trans_amt</th>\n",
       "      <th>trans_cnt</th>\n",
       "    </tr>\n",
       "  </thead>\n",
       "  <tbody>\n",
       "    <tr>\n",
       "      <th>1089</th>\n",
       "      <td>1301</td>\n",
       "      <td>385784</td>\n",
       "      <td>MM</td>\n",
       "      <td>Blue</td>\n",
       "      <td>Delinquent</td>\n",
       "      <td>Entertainment</td>\n",
       "      <td>9.19</td>\n",
       "      <td>2</td>\n",
       "    </tr>\n",
       "    <tr>\n",
       "      <th>1092</th>\n",
       "      <td>1301</td>\n",
       "      <td>2706844</td>\n",
       "      <td>MM</td>\n",
       "      <td>Blue</td>\n",
       "      <td>Delinquent</td>\n",
       "      <td>Personal</td>\n",
       "      <td>3.48</td>\n",
       "      <td>2</td>\n",
       "    </tr>\n",
       "    <tr>\n",
       "      <th>1096</th>\n",
       "      <td>1301</td>\n",
       "      <td>2706844</td>\n",
       "      <td>MM</td>\n",
       "      <td>Blue</td>\n",
       "      <td>Delinquent</td>\n",
       "      <td>Entertainment</td>\n",
       "      <td>18.92</td>\n",
       "      <td>1</td>\n",
       "    </tr>\n",
       "    <tr>\n",
       "      <th>1097</th>\n",
       "      <td>1301</td>\n",
       "      <td>3395502</td>\n",
       "      <td>MM</td>\n",
       "      <td>Blue</td>\n",
       "      <td>Delinquent</td>\n",
       "      <td>Personal</td>\n",
       "      <td>3.75</td>\n",
       "      <td>1</td>\n",
       "    </tr>\n",
       "    <tr>\n",
       "      <th>1102</th>\n",
       "      <td>1301</td>\n",
       "      <td>729724</td>\n",
       "      <td>MM</td>\n",
       "      <td>Blue</td>\n",
       "      <td>Delinquent</td>\n",
       "      <td>Personal</td>\n",
       "      <td>11.41</td>\n",
       "      <td>1</td>\n",
       "    </tr>\n",
       "  </tbody>\n",
       "</table>\n",
       "</div>"
      ],
      "text/plain": [
       "      Month  CLIENTNUM wealth_tag card_type   Revlv_ind spend_category  \\\n",
       "1089   1301     385784         MM      Blue  Delinquent  Entertainment   \n",
       "1092   1301    2706844         MM      Blue  Delinquent       Personal   \n",
       "1096   1301    2706844         MM      Blue  Delinquent  Entertainment   \n",
       "1097   1301    3395502         MM      Blue  Delinquent       Personal   \n",
       "1102   1301     729724         MM      Blue  Delinquent       Personal   \n",
       "\n",
       "      Trans_amt  trans_cnt  \n",
       "1089       9.19          2  \n",
       "1092       3.48          2  \n",
       "1096      18.92          1  \n",
       "1097       3.75          1  \n",
       "1102      11.41          1  "
      ]
     },
     "execution_count": 45,
     "metadata": {},
     "output_type": "execute_result"
    }
   ],
   "source": [
    "df_least = df[(df['wealth_tag']=='MM') & (df['card_type']=='Blue') & (df['Revlv_ind']=='Delinquent') &\n",
    "    ((df['spend_category']=='Entertainment') | (df['spend_category']=='Personal')) ]\n",
    "df_least.head()"
   ]
  },
  {
   "cell_type": "code",
   "execution_count": 46,
   "metadata": {},
   "outputs": [
    {
     "data": {
      "text/html": [
       "<div>\n",
       "<style scoped>\n",
       "    .dataframe tbody tr th:only-of-type {\n",
       "        vertical-align: middle;\n",
       "    }\n",
       "\n",
       "    .dataframe tbody tr th {\n",
       "        vertical-align: top;\n",
       "    }\n",
       "\n",
       "    .dataframe thead th {\n",
       "        text-align: right;\n",
       "    }\n",
       "</style>\n",
       "<table border=\"1\" class=\"dataframe\">\n",
       "  <thead>\n",
       "    <tr style=\"text-align: right;\">\n",
       "      <th></th>\n",
       "      <th>CLIENTNUM</th>\n",
       "      <th>Trans_amt</th>\n",
       "      <th>trans_cnt</th>\n",
       "      <th>months</th>\n",
       "    </tr>\n",
       "    <tr>\n",
       "      <th>Month</th>\n",
       "      <th></th>\n",
       "      <th></th>\n",
       "      <th></th>\n",
       "      <th></th>\n",
       "    </tr>\n",
       "  </thead>\n",
       "  <tbody>\n",
       "    <tr>\n",
       "      <th>1301</th>\n",
       "      <td>45119849</td>\n",
       "      <td>107.40</td>\n",
       "      <td>18</td>\n",
       "      <td>1301</td>\n",
       "    </tr>\n",
       "    <tr>\n",
       "      <th>1302</th>\n",
       "      <td>46925245</td>\n",
       "      <td>39.56</td>\n",
       "      <td>12</td>\n",
       "      <td>1302</td>\n",
       "    </tr>\n",
       "    <tr>\n",
       "      <th>1303</th>\n",
       "      <td>37092572</td>\n",
       "      <td>92.67</td>\n",
       "      <td>14</td>\n",
       "      <td>1303</td>\n",
       "    </tr>\n",
       "    <tr>\n",
       "      <th>1304</th>\n",
       "      <td>31828540</td>\n",
       "      <td>98.91</td>\n",
       "      <td>11</td>\n",
       "      <td>1304</td>\n",
       "    </tr>\n",
       "    <tr>\n",
       "      <th>1305</th>\n",
       "      <td>37458277</td>\n",
       "      <td>56.14</td>\n",
       "      <td>13</td>\n",
       "      <td>1305</td>\n",
       "    </tr>\n",
       "  </tbody>\n",
       "</table>\n",
       "</div>"
      ],
      "text/plain": [
       "       CLIENTNUM  Trans_amt  trans_cnt  months\n",
       "Month                                         \n",
       "1301    45119849     107.40         18    1301\n",
       "1302    46925245      39.56         12    1302\n",
       "1303    37092572      92.67         14    1303\n",
       "1304    31828540      98.91         11    1304\n",
       "1305    37458277      56.14         13    1305"
      ]
     },
     "execution_count": 46,
     "metadata": {},
     "output_type": "execute_result"
    }
   ],
   "source": [
    "df_least = df_least.groupby(['Month']).sum()\n",
    "df_least['months'] = df_least.index\n",
    "df_least.head()"
   ]
  },
  {
   "cell_type": "code",
   "execution_count": 47,
   "metadata": {},
   "outputs": [
    {
     "data": {
      "image/png": "[encoded data removed]",
      "text/plain": [
       "<Figure size 432x288 with 1 Axes>"
      ]
     },
     "metadata": {
      "needs_background": "light"
     },
     "output_type": "display_data"
    }
   ],
   "source": [
    "sns.lineplot(df_least['months'], df_least['Trans_amt'], color = 'red', marker='o', markersize = 10)\n",
    "plt.title('Total Amount spend by Customers over 6 months')\n",
    "plt.show()"
   ]
  },
  {
   "cell_type": "markdown",
   "metadata": {},
   "source": [
    "Those customers who spent least transactions in overall data had been analysed seperately, \n",
    "- They spend most in January and least in February"
   ]
  },
  {
   "cell_type": "markdown",
   "metadata": {},
   "source": [
    "### Taking all the Categories who spend the Most "
   ]
  },
  {
   "cell_type": "code",
   "execution_count": 48,
   "metadata": {},
   "outputs": [
    {
     "data": {
      "text/html": [
       "<div>\n",
       "<style scoped>\n",
       "    .dataframe tbody tr th:only-of-type {\n",
       "        vertical-align: middle;\n",
       "    }\n",
       "\n",
       "    .dataframe tbody tr th {\n",
       "        vertical-align: top;\n",
       "    }\n",
       "\n",
       "    .dataframe thead th {\n",
       "        text-align: right;\n",
       "    }\n",
       "</style>\n",
       "<table border=\"1\" class=\"dataframe\">\n",
       "  <thead>\n",
       "    <tr style=\"text-align: right;\">\n",
       "      <th></th>\n",
       "      <th>Month</th>\n",
       "      <th>CLIENTNUM</th>\n",
       "      <th>wealth_tag</th>\n",
       "      <th>card_type</th>\n",
       "      <th>Revlv_ind</th>\n",
       "      <th>spend_category</th>\n",
       "      <th>Trans_amt</th>\n",
       "      <th>trans_cnt</th>\n",
       "    </tr>\n",
       "  </thead>\n",
       "  <tbody>\n",
       "    <tr>\n",
       "      <th>261</th>\n",
       "      <td>1301</td>\n",
       "      <td>2805062</td>\n",
       "      <td>High Net Worth</td>\n",
       "      <td>Platinum</td>\n",
       "      <td>Occasional_Revolver</td>\n",
       "      <td>Grocery</td>\n",
       "      <td>195.50</td>\n",
       "      <td>18</td>\n",
       "    </tr>\n",
       "    <tr>\n",
       "      <th>263</th>\n",
       "      <td>1301</td>\n",
       "      <td>7137565</td>\n",
       "      <td>High Net Worth</td>\n",
       "      <td>Platinum</td>\n",
       "      <td>Occasional_Revolver</td>\n",
       "      <td>Grocery</td>\n",
       "      <td>177.84</td>\n",
       "      <td>18</td>\n",
       "    </tr>\n",
       "    <tr>\n",
       "      <th>266</th>\n",
       "      <td>1301</td>\n",
       "      <td>6272869</td>\n",
       "      <td>High Net Worth</td>\n",
       "      <td>Platinum</td>\n",
       "      <td>Occasional_Revolver</td>\n",
       "      <td>Grocery</td>\n",
       "      <td>183.84</td>\n",
       "      <td>19</td>\n",
       "    </tr>\n",
       "    <tr>\n",
       "      <th>267</th>\n",
       "      <td>1301</td>\n",
       "      <td>1502831</td>\n",
       "      <td>High Net Worth</td>\n",
       "      <td>Platinum</td>\n",
       "      <td>Occasional_Revolver</td>\n",
       "      <td>Airlines</td>\n",
       "      <td>177.82</td>\n",
       "      <td>19</td>\n",
       "    </tr>\n",
       "    <tr>\n",
       "      <th>269</th>\n",
       "      <td>1301</td>\n",
       "      <td>9987877</td>\n",
       "      <td>High Net Worth</td>\n",
       "      <td>Platinum</td>\n",
       "      <td>Occasional_Revolver</td>\n",
       "      <td>Airlines</td>\n",
       "      <td>181.27</td>\n",
       "      <td>18</td>\n",
       "    </tr>\n",
       "  </tbody>\n",
       "</table>\n",
       "</div>"
      ],
      "text/plain": [
       "     Month  CLIENTNUM      wealth_tag card_type            Revlv_ind  \\\n",
       "261   1301    2805062  High Net Worth  Platinum  Occasional_Revolver   \n",
       "263   1301    7137565  High Net Worth  Platinum  Occasional_Revolver   \n",
       "266   1301    6272869  High Net Worth  Platinum  Occasional_Revolver   \n",
       "267   1301    1502831  High Net Worth  Platinum  Occasional_Revolver   \n",
       "269   1301    9987877  High Net Worth  Platinum  Occasional_Revolver   \n",
       "\n",
       "    spend_category  Trans_amt  trans_cnt  \n",
       "261        Grocery     195.50         18  \n",
       "263        Grocery     177.84         18  \n",
       "266        Grocery     183.84         19  \n",
       "267       Airlines     177.82         19  \n",
       "269       Airlines     181.27         18  "
      ]
     },
     "execution_count": 48,
     "metadata": {},
     "output_type": "execute_result"
    }
   ],
   "source": [
    "df_imp = df[(df['wealth_tag']=='High Net Worth') & (df['card_type']=='Platinum') & (df['Revlv_ind']=='Occasional_Revolver') &\n",
    "    ((df['spend_category']=='Grocery') | (df['spend_category']== 'Airlines')) ]\n",
    "df_imp.head()"
   ]
  },
  {
   "cell_type": "code",
   "execution_count": 49,
   "metadata": {},
   "outputs": [
    {
     "data": {
      "text/html": [
       "<div>\n",
       "<style scoped>\n",
       "    .dataframe tbody tr th:only-of-type {\n",
       "        vertical-align: middle;\n",
       "    }\n",
       "\n",
       "    .dataframe tbody tr th {\n",
       "        vertical-align: top;\n",
       "    }\n",
       "\n",
       "    .dataframe thead th {\n",
       "        text-align: right;\n",
       "    }\n",
       "</style>\n",
       "<table border=\"1\" class=\"dataframe\">\n",
       "  <thead>\n",
       "    <tr style=\"text-align: right;\">\n",
       "      <th></th>\n",
       "      <th>CLIENTNUM</th>\n",
       "      <th>Trans_amt</th>\n",
       "      <th>trans_cnt</th>\n",
       "      <th>months</th>\n",
       "    </tr>\n",
       "    <tr>\n",
       "      <th>Month</th>\n",
       "      <th></th>\n",
       "      <th></th>\n",
       "      <th></th>\n",
       "      <th></th>\n",
       "    </tr>\n",
       "  </thead>\n",
       "  <tbody>\n",
       "    <tr>\n",
       "      <th>1301</th>\n",
       "      <td>66618421</td>\n",
       "      <td>1788.56</td>\n",
       "      <td>185</td>\n",
       "      <td>1301</td>\n",
       "    </tr>\n",
       "    <tr>\n",
       "      <th>1302</th>\n",
       "      <td>70450540</td>\n",
       "      <td>1703.78</td>\n",
       "      <td>175</td>\n",
       "      <td>1302</td>\n",
       "    </tr>\n",
       "    <tr>\n",
       "      <th>1303</th>\n",
       "      <td>67460727</td>\n",
       "      <td>1837.21</td>\n",
       "      <td>186</td>\n",
       "      <td>1303</td>\n",
       "    </tr>\n",
       "    <tr>\n",
       "      <th>1304</th>\n",
       "      <td>51577383</td>\n",
       "      <td>1312.95</td>\n",
       "      <td>138</td>\n",
       "      <td>1304</td>\n",
       "    </tr>\n",
       "    <tr>\n",
       "      <th>1305</th>\n",
       "      <td>40987348</td>\n",
       "      <td>1386.94</td>\n",
       "      <td>147</td>\n",
       "      <td>1305</td>\n",
       "    </tr>\n",
       "  </tbody>\n",
       "</table>\n",
       "</div>"
      ],
      "text/plain": [
       "       CLIENTNUM  Trans_amt  trans_cnt  months\n",
       "Month                                         \n",
       "1301    66618421    1788.56        185    1301\n",
       "1302    70450540    1703.78        175    1302\n",
       "1303    67460727    1837.21        186    1303\n",
       "1304    51577383    1312.95        138    1304\n",
       "1305    40987348    1386.94        147    1305"
      ]
     },
     "execution_count": 49,
     "metadata": {},
     "output_type": "execute_result"
    }
   ],
   "source": [
    "df_imp = df_imp.groupby(['Month']).sum()\n",
    "df_imp['months'] = df_imp.index\n",
    "df_imp.head()"
   ]
  },
  {
   "cell_type": "code",
   "execution_count": 50,
   "metadata": {},
   "outputs": [
    {
     "data": {
      "image/png": "[encoded data removed]",
      "text/plain": [
       "<Figure size 432x288 with 1 Axes>"
      ]
     },
     "metadata": {
      "needs_background": "light"
     },
     "output_type": "display_data"
    }
   ],
   "source": [
    "sns.lineplot(df_imp['months'], df_imp['Trans_amt'], color = 'red', marker='o', markersize = 10)\n",
    "plt.title('Total Amount spend by Customers over 6 months')\n",
    "plt.show()"
   ]
  },
  {
   "cell_type": "markdown",
   "metadata": {},
   "source": [
    "Those customers who spent most of transactions in overall data had been analysed seperately,\n",
    "- They spend most in month of june and spend least in month of april"
   ]
  },
  {
   "cell_type": "code",
   "execution_count": null,
   "metadata": {},
   "outputs": [],
   "source": []
  }
 ],
 "metadata": {
  "kernelspec": {
   "display_name": "Python 3",
   "language": "python",
   "name": "python3"
  },
  "language_info": {
   "codemirror_mode": {
    "name": "ipython",
    "version": 3
   },
   "file_extension": ".py",
   "mimetype": "text/x-python",
   "name": "python",
   "nbconvert_exporter": "python",
   "pygments_lexer": "ipython3",
   "version": "3.8.3"
  }
 },
 "nbformat": 4,
 "nbformat_minor": 4
}
